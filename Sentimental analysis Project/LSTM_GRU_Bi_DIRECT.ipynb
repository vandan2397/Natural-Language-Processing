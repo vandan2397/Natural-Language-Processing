{
  "nbformat": 4,
  "nbformat_minor": 0,
  "metadata": {
    "colab": {
      "name": "LSTM/GRU/Bi-DIRECT.ipynb",
      "provenance": [],
      "collapsed_sections": []
    },
    "kernelspec": {
      "name": "python3",
      "display_name": "Python 3"
    }
  },
  "cells": [
    {
      "cell_type": "markdown",
      "metadata": {
        "id": "Murs0xuUQ_Vl"
      },
      "source": [
        "<h3>Import Libraries"
      ]
    },
    {
      "cell_type": "code",
      "metadata": {
        "id": "e8jjuP3sbwtZ"
      },
      "source": [
        "from sklearn import model_selection, preprocessing, linear_model, naive_bayes, metrics, svm\r\n",
        "from sklearn.feature_extraction.text import TfidfVectorizer, CountVectorizer\r\n",
        "from sklearn import decomposition, ensemble\r\n",
        "\r\n",
        "import pandas as pd\r\n",
        "import xgboost, numpy, textblob, string\r\n",
        "from keras.preprocessing import text, sequence\r\n",
        "from keras import layers, models, optimizers"
      ],
      "execution_count": 1,
      "outputs": []
    },
    {
      "cell_type": "code",
      "metadata": {
        "colab": {
          "base_uri": "https://localhost:8080/"
        },
        "id": "_aCczYGtetnU",
        "outputId": "beda4a50-edd3-4b23-fa38-81719199399d"
      },
      "source": [
        "from google.colab import drive\r\n",
        "drive.mount('/content/drive')"
      ],
      "execution_count": 2,
      "outputs": [
        {
          "output_type": "stream",
          "text": [
            "Mounted at /content/drive\n"
          ],
          "name": "stdout"
        }
      ]
    },
    {
      "cell_type": "code",
      "metadata": {
        "colab": {
          "base_uri": "https://localhost:8080/",
          "height": 204
        },
        "id": "aVYY-RiUe4sh",
        "outputId": "9ce87305-6266-4cb9-b302-448080289762"
      },
      "source": [
        "# Read Data\r\n",
        "path = '/content/drive/MyDrive/NLP/Sentimental Analysis Project/Amazon_Customer_Reviews.csv'\r\n",
        "data = pd.read_csv(path)\r\n",
        "data.drop('Unnamed: 0',axis=1,inplace=True)\r\n",
        "data.head()\r\n"
      ],
      "execution_count": 3,
      "outputs": [
        {
          "output_type": "execute_result",
          "data": {
            "text/html": [
              "<div>\n",
              "<style scoped>\n",
              "    .dataframe tbody tr th:only-of-type {\n",
              "        vertical-align: middle;\n",
              "    }\n",
              "\n",
              "    .dataframe tbody tr th {\n",
              "        vertical-align: top;\n",
              "    }\n",
              "\n",
              "    .dataframe thead th {\n",
              "        text-align: right;\n",
              "    }\n",
              "</style>\n",
              "<table border=\"1\" class=\"dataframe\">\n",
              "  <thead>\n",
              "    <tr style=\"text-align: right;\">\n",
              "      <th></th>\n",
              "      <th>Ratings</th>\n",
              "      <th>Reviews</th>\n",
              "    </tr>\n",
              "  </thead>\n",
              "  <tbody>\n",
              "    <tr>\n",
              "      <th>0</th>\n",
              "      <td>Good</td>\n",
              "      <td>I use Amazon.com often, and 99% of the time, ...</td>\n",
              "    </tr>\n",
              "    <tr>\n",
              "      <th>1</th>\n",
              "      <td>Good</td>\n",
              "      <td>With Amazon you can leisurely shop in the com...</td>\n",
              "    </tr>\n",
              "    <tr>\n",
              "      <th>2</th>\n",
              "      <td>Good</td>\n",
              "      <td>I am very happy with all my purchases since I...</td>\n",
              "    </tr>\n",
              "    <tr>\n",
              "      <th>3</th>\n",
              "      <td>Good</td>\n",
              "      <td>I absolutely love Amazon. Their selections, pr...</td>\n",
              "    </tr>\n",
              "    <tr>\n",
              "      <th>4</th>\n",
              "      <td>Good</td>\n",
              "      <td>We have shopped Amazon for years and always fi...</td>\n",
              "    </tr>\n",
              "  </tbody>\n",
              "</table>\n",
              "</div>"
            ],
            "text/plain": [
              "  Ratings                                            Reviews\n",
              "0    Good   I use Amazon.com often, and 99% of the time, ...\n",
              "1    Good   With Amazon you can leisurely shop in the com...\n",
              "2    Good   I am very happy with all my purchases since I...\n",
              "3    Good  I absolutely love Amazon. Their selections, pr...\n",
              "4    Good  We have shopped Amazon for years and always fi..."
            ]
          },
          "metadata": {
            "tags": []
          },
          "execution_count": 3
        }
      ]
    },
    {
      "cell_type": "markdown",
      "metadata": {
        "id": "kmI27CQgRQLj"
      },
      "source": [
        "<h3>Pre-Processing"
      ]
    },
    {
      "cell_type": "code",
      "metadata": {
        "id": "qkyB5NjGvG1j"
      },
      "source": [
        "#Data cleaning and preprocessing\r\n",
        "import re\r\n",
        "from nltk.stem import WordNetLemmatizer\r\n",
        "wordnet = WordNetLemmatizer()\r\n",
        "\r\n",
        "# Function for preprocessing\r\n",
        "def preprocessing(data):    \r\n",
        "    \r\n",
        "    reviews =  []\r\n",
        "    for i in range(0, len(data)):\r\n",
        "        # Replacing values in rows\r\n",
        "        review = data['Reviews'][i]\r\n",
        "        review = review.replace('$','dollars')\r\n",
        "        review = review.lower()\r\n",
        "        reviews.append(review)\r\n",
        "    \r\n",
        "    return reviews\r\n",
        "        \r\n",
        "reviews_1 = preprocessing(data)"
      ],
      "execution_count": 7,
      "outputs": []
    },
    {
      "cell_type": "code",
      "metadata": {
        "colab": {
          "base_uri": "https://localhost:8080/",
          "height": 204
        },
        "id": "ha8EEPUOwPRM",
        "outputId": "8392aacd-c997-4931-f23e-3fc54957c3b1"
      },
      "source": [
        "df = pd.DataFrame(reviews_1)\r\n",
        "df.head()"
      ],
      "execution_count": 8,
      "outputs": [
        {
          "output_type": "execute_result",
          "data": {
            "text/html": [
              "<div>\n",
              "<style scoped>\n",
              "    .dataframe tbody tr th:only-of-type {\n",
              "        vertical-align: middle;\n",
              "    }\n",
              "\n",
              "    .dataframe tbody tr th {\n",
              "        vertical-align: top;\n",
              "    }\n",
              "\n",
              "    .dataframe thead th {\n",
              "        text-align: right;\n",
              "    }\n",
              "</style>\n",
              "<table border=\"1\" class=\"dataframe\">\n",
              "  <thead>\n",
              "    <tr style=\"text-align: right;\">\n",
              "      <th></th>\n",
              "      <th>0</th>\n",
              "    </tr>\n",
              "  </thead>\n",
              "  <tbody>\n",
              "    <tr>\n",
              "      <th>0</th>\n",
              "      <td>i use amazon.com often, and 99% of the time, ...</td>\n",
              "    </tr>\n",
              "    <tr>\n",
              "      <th>1</th>\n",
              "      <td>with amazon you can leisurely shop in the com...</td>\n",
              "    </tr>\n",
              "    <tr>\n",
              "      <th>2</th>\n",
              "      <td>i am very happy with all my purchases since i...</td>\n",
              "    </tr>\n",
              "    <tr>\n",
              "      <th>3</th>\n",
              "      <td>i absolutely love amazon. their selections, pr...</td>\n",
              "    </tr>\n",
              "    <tr>\n",
              "      <th>4</th>\n",
              "      <td>we have shopped amazon for years and always fi...</td>\n",
              "    </tr>\n",
              "  </tbody>\n",
              "</table>\n",
              "</div>"
            ],
            "text/plain": [
              "                                                   0\n",
              "0   i use amazon.com often, and 99% of the time, ...\n",
              "1   with amazon you can leisurely shop in the com...\n",
              "2   i am very happy with all my purchases since i...\n",
              "3  i absolutely love amazon. their selections, pr...\n",
              "4  we have shopped amazon for years and always fi..."
            ]
          },
          "metadata": {
            "tags": []
          },
          "execution_count": 8
        }
      ]
    },
    {
      "cell_type": "code",
      "metadata": {
        "id": "5BQW4ubawjUf"
      },
      "source": [
        "df.columns=['reviews']"
      ],
      "execution_count": 9,
      "outputs": []
    },
    {
      "cell_type": "code",
      "metadata": {
        "colab": {
          "base_uri": "https://localhost:8080/",
          "height": 204
        },
        "id": "eel-7n4-wagi",
        "outputId": "6a6a7e07-c7ba-4401-beeb-560e79bb5323"
      },
      "source": [
        "df.head()"
      ],
      "execution_count": 10,
      "outputs": [
        {
          "output_type": "execute_result",
          "data": {
            "text/html": [
              "<div>\n",
              "<style scoped>\n",
              "    .dataframe tbody tr th:only-of-type {\n",
              "        vertical-align: middle;\n",
              "    }\n",
              "\n",
              "    .dataframe tbody tr th {\n",
              "        vertical-align: top;\n",
              "    }\n",
              "\n",
              "    .dataframe thead th {\n",
              "        text-align: right;\n",
              "    }\n",
              "</style>\n",
              "<table border=\"1\" class=\"dataframe\">\n",
              "  <thead>\n",
              "    <tr style=\"text-align: right;\">\n",
              "      <th></th>\n",
              "      <th>reviews</th>\n",
              "    </tr>\n",
              "  </thead>\n",
              "  <tbody>\n",
              "    <tr>\n",
              "      <th>0</th>\n",
              "      <td>i use amazon.com often, and 99% of the time, ...</td>\n",
              "    </tr>\n",
              "    <tr>\n",
              "      <th>1</th>\n",
              "      <td>with amazon you can leisurely shop in the com...</td>\n",
              "    </tr>\n",
              "    <tr>\n",
              "      <th>2</th>\n",
              "      <td>i am very happy with all my purchases since i...</td>\n",
              "    </tr>\n",
              "    <tr>\n",
              "      <th>3</th>\n",
              "      <td>i absolutely love amazon. their selections, pr...</td>\n",
              "    </tr>\n",
              "    <tr>\n",
              "      <th>4</th>\n",
              "      <td>we have shopped amazon for years and always fi...</td>\n",
              "    </tr>\n",
              "  </tbody>\n",
              "</table>\n",
              "</div>"
            ],
            "text/plain": [
              "                                             reviews\n",
              "0   i use amazon.com often, and 99% of the time, ...\n",
              "1   with amazon you can leisurely shop in the com...\n",
              "2   i am very happy with all my purchases since i...\n",
              "3  i absolutely love amazon. their selections, pr...\n",
              "4  we have shopped amazon for years and always fi..."
            ]
          },
          "metadata": {
            "tags": []
          },
          "execution_count": 10
        }
      ]
    },
    {
      "cell_type": "markdown",
      "metadata": {
        "id": "AhD8A3JJRoHZ"
      },
      "source": [
        "<h3> Word to vec Representation"
      ]
    },
    {
      "cell_type": "code",
      "metadata": {
        "id": "nOIl3Spcu9Xd"
      },
      "source": [
        "path_vec = '/content/drive/MyDrive/NLP/Sentimental Analysis Project/wiki-news-300d-1M.vec'"
      ],
      "execution_count": 11,
      "outputs": []
    },
    {
      "cell_type": "code",
      "metadata": {
        "id": "7xWPY1kab23L"
      },
      "source": [
        "# load the pre-trained word-embedding vectors \r\n",
        "embeddings_index = {}\r\n",
        "for i, line in enumerate(open(path_vec)):\r\n",
        "    values = line.split()\r\n",
        "    embeddings_index[values[0]] = numpy.asarray(values[1:], dtype='float32')"
      ],
      "execution_count": null,
      "outputs": []
    },
    {
      "cell_type": "code",
      "metadata": {
        "colab": {
          "base_uri": "https://localhost:8080/"
        },
        "id": "4TqXlI2veq95",
        "outputId": "ace99001-8728-4f93-cdce-62fae1b411ed"
      },
      "source": [
        "embeddings_index"
      ],
      "execution_count": null,
      "outputs": []
    },
    {
      "cell_type": "code",
      "metadata": {
        "id": "_AjAX9FT0iIa"
      },
      "source": [
        "# create a tokenizer \r\n",
        "token = text.Tokenizer()\r\n",
        "token.fit_on_texts(df['reviews'])\r\n",
        "word_index = token.word_index"
      ],
      "execution_count": null,
      "outputs": []
    },
    {
      "cell_type": "markdown",
      "metadata": {
        "id": "3QjVFITyQ9X7"
      },
      "source": [
        ""
      ]
    },
    {
      "cell_type": "code",
      "metadata": {
        "id": "rutY-FjM3POx"
      },
      "source": [
        "# create token-embedding mapping\r\n",
        "embedding_matrix = numpy.zeros((len(word_index) + 1, 300))\r\n",
        "for word, i in word_index.items():\r\n",
        "    embedding_vector = embeddings_index.get(word)\r\n",
        "    if embedding_vector is not None:\r\n",
        "        embedding_matrix[i] = embedding_vector"
      ],
      "execution_count": null,
      "outputs": []
    },
    {
      "cell_type": "code",
      "metadata": {
        "colab": {
          "base_uri": "https://localhost:8080/"
        },
        "id": "ejx1Mdmi5FsH",
        "outputId": "b2bf14eb-4713-4658-83ca-2a3d3c696a32"
      },
      "source": [
        "embedding_matrix"
      ],
      "execution_count": null,
      "outputs": [
        {
          "output_type": "execute_result",
          "data": {
            "text/plain": [
              "array([[ 0.        ,  0.        ,  0.        , ...,  0.        ,\n",
              "         0.        ,  0.        ],\n",
              "       [-0.0281    ,  0.2958    ,  0.0666    , ..., -0.0482    ,\n",
              "         0.14300001,  0.0724    ],\n",
              "       [ 0.0171    ,  0.0596    , -0.0121    , ...,  0.0741    ,\n",
              "         0.004     , -0.0612    ],\n",
              "       ...,\n",
              "       [-0.0885    , -0.1832    , -0.084     , ...,  0.15350001,\n",
              "        -0.0632    , -0.0021    ],\n",
              "       [ 0.0506    , -0.17900001, -0.20730001, ...,  0.1452    ,\n",
              "        -0.0499    ,  0.1106    ],\n",
              "       [ 0.0481    , -0.02      , -0.0963    , ..., -0.0867    ,\n",
              "         0.0005    , -0.35960001]])"
            ]
          },
          "metadata": {
            "tags": []
          },
          "execution_count": 35
        }
      ]
    },
    {
      "cell_type": "markdown",
      "metadata": {
        "id": "DkzU3l1ZSjs2"
      },
      "source": [
        "<h3>Train-Test Split and Dummifying output variable "
      ]
    },
    {
      "cell_type": "code",
      "metadata": {
        "id": "vGWwWo3n1jAh"
      },
      "source": [
        "#dummyfying output variable\r\n",
        "y=pd.get_dummies(data['Ratings'],drop_first=True)\r\n",
        "\r\n",
        "# split the dataset into training and validation datasets \r\n",
        "train_x, valid_x, train_y, valid_y = model_selection.train_test_split(df['reviews'], y)"
      ],
      "execution_count": null,
      "outputs": []
    },
    {
      "cell_type": "code",
      "metadata": {
        "colab": {
          "base_uri": "https://localhost:8080/"
        },
        "id": "kFeSZABe27Vf",
        "outputId": "5e135b8f-49f6-429a-e532-eb4a6cc72aa2"
      },
      "source": [
        "len(max(df['reviews']))"
      ],
      "execution_count": null,
      "outputs": [
        {
          "output_type": "execute_result",
          "data": {
            "text/plain": [
              "165"
            ]
          },
          "metadata": {
            "tags": []
          },
          "execution_count": 29
        }
      ]
    },
    {
      "cell_type": "code",
      "metadata": {
        "id": "-0yXzlUt1of_"
      },
      "source": [
        "# convert text to sequence of tokens and pad them to ensure equal length vectors \r\n",
        "train_seq_x = sequence.pad_sequences(token.texts_to_sequences(train_x), maxlen=165)\r\n",
        "valid_seq_x = sequence.pad_sequences(token.texts_to_sequences(valid_x), maxlen=165)"
      ],
      "execution_count": null,
      "outputs": []
    },
    {
      "cell_type": "code",
      "metadata": {
        "colab": {
          "base_uri": "https://localhost:8080/"
        },
        "id": "jJFmoEcM3M5I",
        "outputId": "31f78568-254f-43d5-93da-e9b6063e7023"
      },
      "source": [
        "train_seq_x"
      ],
      "execution_count": null,
      "outputs": [
        {
          "output_type": "execute_result",
          "data": {
            "text/plain": [
              "array([[   0,    0,    0, ...,    8, 4545,  207],\n",
              "       [1684,   23,  909, ...,   78,   76,   56],\n",
              "       [   0,    0,    0, ...,    3,   25, 1061],\n",
              "       ...,\n",
              "       [   0,    0,    0, ...,   81,   14,  630],\n",
              "       [   0,    0,    0, ...,  151,   83,   21],\n",
              "       [   2,  466,   73, ...,   78,   76,   56]], dtype=int32)"
            ]
          },
          "metadata": {
            "tags": []
          },
          "execution_count": 17
        }
      ]
    },
    {
      "cell_type": "markdown",
      "metadata": {
        "id": "jpMXyoqdSSXo"
      },
      "source": [
        "<h3>LSTM"
      ]
    },
    {
      "cell_type": "code",
      "metadata": {
        "colab": {
          "base_uri": "https://localhost:8080/"
        },
        "id": "fApqOc_MaMPP",
        "outputId": "6f431c80-5ea9-4d7c-b437-b18a46e7dd60"
      },
      "source": [
        "## Creating model\r\n",
        "from tensorflow.keras.models import Sequential\r\n",
        "from tensorflow.keras.layers import Embedding\r\n",
        "from tensorflow.keras.layers import Dropout\r\n",
        "from tensorflow.keras.layers import LSTM\r\n",
        "from tensorflow.keras.layers import Dense\r\n",
        "\r\n",
        "model=Sequential()\r\n",
        "model.add(Embedding(len(word_index) + 1, 300, weights=[embedding_matrix],input_length=165 ,trainable=False))\r\n",
        "model.add(Dropout(0.3))\r\n",
        "model.add(LSTM(100))\r\n",
        "model.add(Dense(1,activation='sigmoid'))\r\n",
        "model.compile(loss='binary_crossentropy',optimizer='adam',metrics=['accuracy'])\r\n",
        "print(model.summary())"
      ],
      "execution_count": null,
      "outputs": [
        {
          "output_type": "stream",
          "text": [
            "Model: \"sequential_3\"\n",
            "_________________________________________________________________\n",
            "Layer (type)                 Output Shape              Param #   \n",
            "=================================================================\n",
            "embedding_2 (Embedding)      (None, 165, 300)          5350800   \n",
            "_________________________________________________________________\n",
            "dropout_1 (Dropout)          (None, 165, 300)          0         \n",
            "_________________________________________________________________\n",
            "lstm (LSTM)                  (None, 100)               160400    \n",
            "_________________________________________________________________\n",
            "dense (Dense)                (None, 1)                 101       \n",
            "=================================================================\n",
            "Total params: 5,511,301\n",
            "Trainable params: 160,501\n",
            "Non-trainable params: 5,350,800\n",
            "_________________________________________________________________\n",
            "None\n"
          ],
          "name": "stdout"
        }
      ]
    },
    {
      "cell_type": "code",
      "metadata": {
        "colab": {
          "base_uri": "https://localhost:8080/"
        },
        "id": "aMAiO84NbZdZ",
        "outputId": "bdb4f378-45af-442c-87ba-7fa1f8f66133"
      },
      "source": [
        "model.fit(train_seq_x,train_y,validation_data=(valid_seq_x,valid_y),epochs=10,batch_size=64)"
      ],
      "execution_count": null,
      "outputs": [
        {
          "output_type": "stream",
          "text": [
            "Epoch 1/10\n",
            "78/78 [==============================] - 30s 361ms/step - loss: 0.5573 - accuracy: 0.6945 - val_loss: 0.2863 - val_accuracy: 0.9022\n",
            "Epoch 2/10\n",
            "78/78 [==============================] - 28s 354ms/step - loss: 0.2476 - accuracy: 0.9147 - val_loss: 0.2451 - val_accuracy: 0.9155\n",
            "Epoch 3/10\n",
            "78/78 [==============================] - 28s 356ms/step - loss: 0.2442 - accuracy: 0.9159 - val_loss: 0.2241 - val_accuracy: 0.9269\n",
            "Epoch 4/10\n",
            "78/78 [==============================] - 28s 356ms/step - loss: 0.2075 - accuracy: 0.9323 - val_loss: 0.2106 - val_accuracy: 0.9312\n",
            "Epoch 5/10\n",
            "78/78 [==============================] - 28s 356ms/step - loss: 0.1879 - accuracy: 0.9378 - val_loss: 0.2051 - val_accuracy: 0.9342\n",
            "Epoch 6/10\n",
            "78/78 [==============================] - 28s 355ms/step - loss: 0.1709 - accuracy: 0.9482 - val_loss: 0.2080 - val_accuracy: 0.9318\n",
            "Epoch 7/10\n",
            "78/78 [==============================] - 28s 356ms/step - loss: 0.1658 - accuracy: 0.9491 - val_loss: 0.2233 - val_accuracy: 0.9287\n",
            "Epoch 8/10\n",
            "78/78 [==============================] - 28s 353ms/step - loss: 0.1936 - accuracy: 0.9407 - val_loss: 0.2192 - val_accuracy: 0.9281\n",
            "Epoch 9/10\n",
            "78/78 [==============================] - 27s 352ms/step - loss: 0.1640 - accuracy: 0.9442 - val_loss: 0.2174 - val_accuracy: 0.9281\n",
            "Epoch 10/10\n",
            "78/78 [==============================] - 27s 353ms/step - loss: 0.1634 - accuracy: 0.9471 - val_loss: 0.2011 - val_accuracy: 0.9348\n"
          ],
          "name": "stdout"
        },
        {
          "output_type": "execute_result",
          "data": {
            "text/plain": [
              "<tensorflow.python.keras.callbacks.History at 0x7f4636962198>"
            ]
          },
          "metadata": {
            "tags": []
          },
          "execution_count": 19
        }
      ]
    },
    {
      "cell_type": "markdown",
      "metadata": {
        "id": "Xt9V5yI_OohC"
      },
      "source": [
        "<h3>Gated Recurrent Network"
      ]
    },
    {
      "cell_type": "code",
      "metadata": {
        "id": "z7Uaba3uTcoi",
        "colab": {
          "base_uri": "https://localhost:8080/"
        },
        "outputId": "25516e61-315b-4f7a-9b8f-2c0f23593f76"
      },
      "source": [
        "## Creating model\r\n",
        "from tensorflow.keras.models import Sequential\r\n",
        "from tensorflow.keras.layers import Embedding\r\n",
        "from tensorflow.keras.layers import Dropout\r\n",
        "from tensorflow.keras.layers import GRU\r\n",
        "from tensorflow.keras.layers import Dense\r\n",
        "\r\n",
        "model=Sequential()\r\n",
        "model.add(Embedding(len(word_index) + 1, 300, weights=[embedding_matrix],input_length=165 ,trainable=False))\r\n",
        "model.add(Dropout(0.3))\r\n",
        "model.add(GRU(100))\r\n",
        "model.add(Dense(1,activation='sigmoid'))\r\n",
        "model.compile(loss='binary_crossentropy',optimizer='adam',metrics=['accuracy'])\r\n",
        "print(model.summary())"
      ],
      "execution_count": null,
      "outputs": [
        {
          "output_type": "stream",
          "text": [
            "Model: \"sequential_4\"\n",
            "_________________________________________________________________\n",
            "Layer (type)                 Output Shape              Param #   \n",
            "=================================================================\n",
            "embedding_3 (Embedding)      (None, 165, 300)          5350800   \n",
            "_________________________________________________________________\n",
            "dropout_2 (Dropout)          (None, 165, 300)          0         \n",
            "_________________________________________________________________\n",
            "gru (GRU)                    (None, 100)               120600    \n",
            "_________________________________________________________________\n",
            "dense_1 (Dense)              (None, 1)                 101       \n",
            "=================================================================\n",
            "Total params: 5,471,501\n",
            "Trainable params: 120,701\n",
            "Non-trainable params: 5,350,800\n",
            "_________________________________________________________________\n",
            "None\n"
          ],
          "name": "stdout"
        }
      ]
    },
    {
      "cell_type": "code",
      "metadata": {
        "colab": {
          "base_uri": "https://localhost:8080/"
        },
        "id": "lU55Tx77dGYW",
        "outputId": "cdec0464-77dc-4608-dee1-67f9d75767ee"
      },
      "source": [
        "model.fit(train_seq_x,train_y,validation_data=(valid_seq_x,valid_y),epochs=10,batch_size=64)"
      ],
      "execution_count": null,
      "outputs": [
        {
          "output_type": "stream",
          "text": [
            "Epoch 1/10\n",
            "78/78 [==============================] - 25s 301ms/step - loss: 0.5639 - accuracy: 0.6830 - val_loss: 0.4674 - val_accuracy: 0.7645\n",
            "Epoch 2/10\n",
            "78/78 [==============================] - 23s 299ms/step - loss: 0.4328 - accuracy: 0.8006 - val_loss: 0.3039 - val_accuracy: 0.8853\n",
            "Epoch 3/10\n",
            "78/78 [==============================] - 23s 300ms/step - loss: 0.2476 - accuracy: 0.9162 - val_loss: 0.2132 - val_accuracy: 0.9275\n",
            "Epoch 4/10\n",
            "78/78 [==============================] - 23s 298ms/step - loss: 0.1886 - accuracy: 0.9358 - val_loss: 0.2204 - val_accuracy: 0.9306\n",
            "Epoch 5/10\n",
            "78/78 [==============================] - 23s 296ms/step - loss: 0.1711 - accuracy: 0.9472 - val_loss: 0.2068 - val_accuracy: 0.9330\n",
            "Epoch 6/10\n",
            "78/78 [==============================] - 23s 296ms/step - loss: 0.1731 - accuracy: 0.9437 - val_loss: 0.2012 - val_accuracy: 0.9312\n",
            "Epoch 7/10\n",
            "78/78 [==============================] - 23s 296ms/step - loss: 0.1767 - accuracy: 0.9417 - val_loss: 0.2023 - val_accuracy: 0.9330\n",
            "Epoch 8/10\n",
            "78/78 [==============================] - 23s 298ms/step - loss: 0.1496 - accuracy: 0.9564 - val_loss: 0.2015 - val_accuracy: 0.9330\n",
            "Epoch 9/10\n",
            "78/78 [==============================] - 23s 296ms/step - loss: 0.1618 - accuracy: 0.9499 - val_loss: 0.2139 - val_accuracy: 0.9300\n",
            "Epoch 10/10\n",
            "78/78 [==============================] - 23s 298ms/step - loss: 0.1431 - accuracy: 0.9580 - val_loss: 0.2225 - val_accuracy: 0.9306\n"
          ],
          "name": "stdout"
        },
        {
          "output_type": "execute_result",
          "data": {
            "text/plain": [
              "<tensorflow.python.keras.callbacks.History at 0x7f4633e03240>"
            ]
          },
          "metadata": {
            "tags": []
          },
          "execution_count": 21
        }
      ]
    },
    {
      "cell_type": "markdown",
      "metadata": {
        "id": "Xnhc7eBccEaT"
      },
      "source": [
        "<h3>Bi-Directional</h3>"
      ]
    },
    {
      "cell_type": "code",
      "metadata": {
        "colab": {
          "base_uri": "https://localhost:8080/"
        },
        "id": "W5MoolLhcIY6",
        "outputId": "a8f6746e-24ee-4657-e5b1-6a564d0501a6"
      },
      "source": [
        "from tensorflow.keras.layers import Bidirectional\r\n",
        "## Creating model\r\n",
        "from tensorflow.keras.models import Sequential\r\n",
        "from tensorflow.keras.layers import Embedding\r\n",
        "from tensorflow.keras.layers import Dropout\r\n",
        "from tensorflow.keras.layers import GRU\r\n",
        "from tensorflow.keras.layers import Dense\r\n",
        "\r\n",
        "model=Sequential()\r\n",
        "model.add(Embedding(len(word_index) + 1, 300, weights=[embedding_matrix],input_length=165 ,trainable=False))\r\n",
        "model.add(Dropout(0.3))\r\n",
        "model.add(Bidirectional(LSTM(100)))\r\n",
        "model.add(Dense(1,activation='sigmoid'))\r\n",
        "model.compile(loss='binary_crossentropy',optimizer='adam',metrics=['accuracy'])\r\n",
        "print(model.summary())\r\n",
        "\r\n"
      ],
      "execution_count": null,
      "outputs": [
        {
          "output_type": "stream",
          "text": [
            "Model: \"sequential_6\"\n",
            "_________________________________________________________________\n",
            "Layer (type)                 Output Shape              Param #   \n",
            "=================================================================\n",
            "embedding_5 (Embedding)      (None, 165, 300)          5350800   \n",
            "_________________________________________________________________\n",
            "dropout_4 (Dropout)          (None, 165, 300)          0         \n",
            "_________________________________________________________________\n",
            "bidirectional (Bidirectional (None, 200)               320800    \n",
            "_________________________________________________________________\n",
            "dense_2 (Dense)              (None, 1)                 201       \n",
            "=================================================================\n",
            "Total params: 5,671,801\n",
            "Trainable params: 321,001\n",
            "Non-trainable params: 5,350,800\n",
            "_________________________________________________________________\n",
            "None\n"
          ],
          "name": "stdout"
        }
      ]
    },
    {
      "cell_type": "code",
      "metadata": {
        "colab": {
          "base_uri": "https://localhost:8080/"
        },
        "id": "5P1IH3tgdLeM",
        "outputId": "3424f5c4-7de3-4ba6-ac84-210cb40ee1eb"
      },
      "source": [
        "model.fit(train_seq_x,train_y,validation_data=(valid_seq_x,valid_y),epochs=10,batch_size=64)"
      ],
      "execution_count": null,
      "outputs": [
        {
          "output_type": "stream",
          "text": [
            "Epoch 1/10\n",
            "78/78 [==============================] - 54s 652ms/step - loss: 0.5414 - accuracy: 0.7199 - val_loss: 0.4596 - val_accuracy: 0.8315\n",
            "Epoch 2/10\n",
            "78/78 [==============================] - 50s 642ms/step - loss: 0.4077 - accuracy: 0.8424 - val_loss: 0.3180 - val_accuracy: 0.8937\n",
            "Epoch 3/10\n",
            "78/78 [==============================] - 50s 642ms/step - loss: 0.2625 - accuracy: 0.9123 - val_loss: 0.2482 - val_accuracy: 0.9130\n",
            "Epoch 4/10\n",
            "78/78 [==============================] - 50s 644ms/step - loss: 0.2414 - accuracy: 0.9138 - val_loss: 0.2951 - val_accuracy: 0.8949\n",
            "Epoch 5/10\n",
            "78/78 [==============================] - 50s 643ms/step - loss: 0.2237 - accuracy: 0.9259 - val_loss: 0.2445 - val_accuracy: 0.9161\n",
            "Epoch 6/10\n",
            "78/78 [==============================] - 50s 644ms/step - loss: 0.1973 - accuracy: 0.9328 - val_loss: 0.2178 - val_accuracy: 0.9300\n",
            "Epoch 7/10\n",
            "78/78 [==============================] - 50s 642ms/step - loss: 0.1782 - accuracy: 0.9452 - val_loss: 0.2174 - val_accuracy: 0.9306\n",
            "Epoch 8/10\n",
            "78/78 [==============================] - 50s 644ms/step - loss: 0.1919 - accuracy: 0.9378 - val_loss: 0.2250 - val_accuracy: 0.9227\n",
            "Epoch 9/10\n",
            "78/78 [==============================] - 50s 643ms/step - loss: 0.1766 - accuracy: 0.9413 - val_loss: 0.2023 - val_accuracy: 0.9342\n",
            "Epoch 10/10\n",
            "78/78 [==============================] - 50s 644ms/step - loss: 0.1732 - accuracy: 0.9412 - val_loss: 0.2115 - val_accuracy: 0.9312\n"
          ],
          "name": "stdout"
        },
        {
          "output_type": "execute_result",
          "data": {
            "text/plain": [
              "<tensorflow.python.keras.callbacks.History at 0x7f4631e63630>"
            ]
          },
          "metadata": {
            "tags": []
          },
          "execution_count": 24
        }
      ]
    },
    {
      "cell_type": "code",
      "metadata": {
        "id": "R33v-EfgdN86"
      },
      "source": [
        ""
      ],
      "execution_count": null,
      "outputs": []
    }
  ]
}