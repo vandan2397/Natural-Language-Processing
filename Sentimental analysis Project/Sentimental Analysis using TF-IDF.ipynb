{
 "cells": [
  {
   "cell_type": "code",
   "execution_count": 1,
   "metadata": {},
   "outputs": [],
   "source": [
    "# import libraries\n",
    "\n",
    "import pandas as pd\n",
    "import numpy as np"
   ]
  },
  {
   "cell_type": "code",
   "execution_count": 2,
   "metadata": {},
   "outputs": [
    {
     "data": {
      "text/html": [
       "<div>\n",
       "<style scoped>\n",
       "    .dataframe tbody tr th:only-of-type {\n",
       "        vertical-align: middle;\n",
       "    }\n",
       "\n",
       "    .dataframe tbody tr th {\n",
       "        vertical-align: top;\n",
       "    }\n",
       "\n",
       "    .dataframe thead th {\n",
       "        text-align: right;\n",
       "    }\n",
       "</style>\n",
       "<table border=\"1\" class=\"dataframe\">\n",
       "  <thead>\n",
       "    <tr style=\"text-align: right;\">\n",
       "      <th></th>\n",
       "      <th>Ratings</th>\n",
       "      <th>Reviews</th>\n",
       "    </tr>\n",
       "  </thead>\n",
       "  <tbody>\n",
       "    <tr>\n",
       "      <th>0</th>\n",
       "      <td>Good</td>\n",
       "      <td>I use Amazon.com often, and 99% of the time, ...</td>\n",
       "    </tr>\n",
       "    <tr>\n",
       "      <th>1</th>\n",
       "      <td>Good</td>\n",
       "      <td>With Amazon you can leisurely shop in the com...</td>\n",
       "    </tr>\n",
       "    <tr>\n",
       "      <th>2</th>\n",
       "      <td>Good</td>\n",
       "      <td>I am very happy with all my purchases since I...</td>\n",
       "    </tr>\n",
       "    <tr>\n",
       "      <th>3</th>\n",
       "      <td>Good</td>\n",
       "      <td>I absolutely love Amazon. Their selections, pr...</td>\n",
       "    </tr>\n",
       "    <tr>\n",
       "      <th>4</th>\n",
       "      <td>Good</td>\n",
       "      <td>We have shopped Amazon for years and always fi...</td>\n",
       "    </tr>\n",
       "  </tbody>\n",
       "</table>\n",
       "</div>"
      ],
      "text/plain": [
       "  Ratings                                            Reviews\n",
       "0    Good   I use Amazon.com often, and 99% of the time, ...\n",
       "1    Good   With Amazon you can leisurely shop in the com...\n",
       "2    Good   I am very happy with all my purchases since I...\n",
       "3    Good  I absolutely love Amazon. Their selections, pr...\n",
       "4    Good  We have shopped Amazon for years and always fi..."
      ]
     },
     "execution_count": 2,
     "metadata": {},
     "output_type": "execute_result"
    }
   ],
   "source": [
    "# Read data\n",
    "\n",
    "data = pd.read_csv('Amazon_customer_Reviews.csv')\n",
    "data.drop('Unnamed: 0',axis=1,inplace=True)\n",
    "data.head()"
   ]
  },
  {
   "cell_type": "code",
   "execution_count": 3,
   "metadata": {},
   "outputs": [],
   "source": [
    "#Data cleaning and preprocessing\n",
    "import re\n",
    "import nltk\n",
    "from nltk.corpus import stopwords\n",
    "from nltk.stem import WordNetLemmatizer\n",
    "wordnet = WordNetLemmatizer()"
   ]
  },
  {
   "cell_type": "code",
   "execution_count": 4,
   "metadata": {},
   "outputs": [],
   "source": [
    "# Function for preprocessing\n",
    "def preprocessing(data):    \n",
    "    \n",
    "    reviews =  []\n",
    "    for i in range(0, len(data)):\n",
    "        # Replacing values in rows\n",
    "        review = data['Reviews'][i]\n",
    "        review = review.replace('$','dollars')\n",
    "    \n",
    "        # keeping only text and numbers in reviews\n",
    "        review = re.sub('%', ' percent', review)\n",
    "        review = re.sub('[^a-zA-Z0-9/]', ' ', review)\n",
    "        review = review.lower()\n",
    "        review = review.split()\n",
    "    \n",
    "        # Removing Stopwords\n",
    "        review = [wordnet.lemmatize(word) for word in review if not word in stopwords.words('english')]\n",
    "        review = ' '.join(review)\n",
    "    \n",
    "        reviews.append(review)\n",
    "    \n",
    "    return reviews\n",
    "        \n",
    "reviews_1 = preprocessing(data)"
   ]
  },
  {
   "cell_type": "markdown",
   "metadata": {},
   "source": [
    "<h1>TF-IDF</h3>"
   ]
  },
  {
   "cell_type": "code",
   "execution_count": 5,
   "metadata": {},
   "outputs": [],
   "source": [
    "# TFIDF using TFIDFVectorizer    \n",
    "from sklearn.feature_extraction.text import TfidfVectorizer\n",
    "cv = TfidfVectorizer()\n",
    "X = cv.fit_transform(reviews_1).toarray()\n",
    "\n",
    "#dummyfying output variable\n",
    "y=pd.get_dummies(data['Ratings'],drop_first=True)"
   ]
  },
  {
   "cell_type": "code",
   "execution_count": 6,
   "metadata": {},
   "outputs": [],
   "source": [
    "# Train Test Split\n",
    "from sklearn.model_selection import train_test_split\n",
    "X_train, X_test, y_train, y_test = train_test_split(X, y, test_size = 0.20, random_state = 42)"
   ]
  },
  {
   "cell_type": "markdown",
   "metadata": {},
   "source": [
    "<h3>Naive Bayes Classifier</h3>"
   ]
  },
  {
   "cell_type": "code",
   "execution_count": 11,
   "metadata": {},
   "outputs": [
    {
     "name": "stderr",
     "output_type": "stream",
     "text": [
      "C:\\Users\\Vandan\\Anaconda3\\lib\\site-packages\\sklearn\\utils\\validation.py:72: DataConversionWarning: A column-vector y was passed when a 1d array was expected. Please change the shape of y to (n_samples, ), for example using ravel().\n",
      "  return f(**kwargs)\n"
     ]
    }
   ],
   "source": [
    "# Training model using Naive bayes classifier\n",
    "from sklearn.naive_bayes import MultinomialNB\n",
    "nb_model = MultinomialNB(alpha=0.01).fit(X_train, y_train)\n",
    "\n",
    "y_pred=nb_model.predict(X_test)"
   ]
  },
  {
   "cell_type": "code",
   "execution_count": 12,
   "metadata": {},
   "outputs": [
    {
     "name": "stdout",
     "output_type": "stream",
     "text": [
      "Confusion Matrix:\n",
      "[[3654  111]\n",
      " [  54 1477]]\n",
      "Classification Report:\n",
      "              precision    recall  f1-score   support\n",
      "\n",
      "           0       0.99      0.97      0.98      3765\n",
      "           1       0.93      0.96      0.95      1531\n",
      "\n",
      "    accuracy                           0.97      5296\n",
      "   macro avg       0.96      0.97      0.96      5296\n",
      "weighted avg       0.97      0.97      0.97      5296\n",
      "\n",
      "Accuracy: 0.9688444108761329\n"
     ]
    }
   ],
   "source": [
    "# Training Evaluation\n",
    "\n",
    "y_pred_t = nb_model.predict(X_train)\n",
    "\n",
    "# Classification metrics\n",
    "from sklearn.metrics import classification_report,confusion_matrix,accuracy_score\n",
    "cm_train = confusion_matrix(y_pred_t, y_train)\n",
    "print(\"Confusion Matrix:\")\n",
    "print(cm_train)\n",
    "\n",
    "report_train = classification_report(y_pred_t, y_train)\n",
    "print(\"Classification Report:\",)\n",
    "print (report_train)\n",
    "\n",
    "accuracy_train = accuracy_score(y_pred_t,y_train)\n",
    "print(\"Accuracy:\",accuracy_train)"
   ]
  },
  {
   "cell_type": "code",
   "execution_count": 13,
   "metadata": {},
   "outputs": [
    {
     "name": "stdout",
     "output_type": "stream",
     "text": [
      "Confusion Matrix:\n",
      "[[928  79]\n",
      " [ 18 300]]\n",
      "Classification Report:\n",
      "              precision    recall  f1-score   support\n",
      "\n",
      "           0       0.98      0.92      0.95      1007\n",
      "           1       0.79      0.94      0.86       318\n",
      "\n",
      "    accuracy                           0.93      1325\n",
      "   macro avg       0.89      0.93      0.91      1325\n",
      "weighted avg       0.94      0.93      0.93      1325\n",
      "\n",
      "Accuracy: 0.9267924528301886\n"
     ]
    }
   ],
   "source": [
    "# Testing Evaluation Evaluation\n",
    "\n",
    "y_pred = nb_model.predict(X_test)\n",
    "\n",
    "# Classification metrics\n",
    "from sklearn.metrics import classification_report,confusion_matrix,accuracy_score\n",
    "cm_test = confusion_matrix(y_pred, y_test)\n",
    "print(\"Confusion Matrix:\")\n",
    "print(cm_test)\n",
    "\n",
    "report_test = classification_report(y_pred, y_test)\n",
    "print(\"Classification Report:\",)\n",
    "print (report_test)\n",
    "\n",
    "accuracy_test = accuracy_score(y_pred,y_test)\n",
    "print(\"Accuracy:\",accuracy_test)"
   ]
  },
  {
   "cell_type": "code",
   "execution_count": 14,
   "metadata": {},
   "outputs": [
    {
     "name": "stderr",
     "output_type": "stream",
     "text": [
      "C:\\Users\\Vandan\\Anaconda3\\lib\\site-packages\\sklearn\\model_selection\\_search.py:282: UserWarning: The total space of parameters 5 is smaller than n_iter=300. Running 5 iterations. For exhaustive searches, use GridSearchCV.\n",
      "  % (grid_size, self.n_iter, grid_size), UserWarning)\n",
      "[Parallel(n_jobs=-1)]: Using backend LokyBackend with 4 concurrent workers.\n"
     ]
    },
    {
     "name": "stdout",
     "output_type": "stream",
     "text": [
      "Fitting 10 folds for each of 5 candidates, totalling 50 fits\n"
     ]
    },
    {
     "name": "stderr",
     "output_type": "stream",
     "text": [
      "[Parallel(n_jobs=-1)]: Done  33 tasks      | elapsed:  3.3min\n",
      "[Parallel(n_jobs=-1)]: Done  50 out of  50 | elapsed:  3.6min finished\n",
      "C:\\Users\\Vandan\\Anaconda3\\lib\\site-packages\\sklearn\\utils\\validation.py:72: DataConversionWarning: A column-vector y was passed when a 1d array was expected. Please change the shape of y to (n_samples, ), for example using ravel().\n",
      "  return f(**kwargs)\n"
     ]
    }
   ],
   "source": [
    "# Hyperparameter tuning\n",
    "\n",
    "from sklearn.model_selection import RandomizedSearchCV\n",
    "\n",
    "# Create the random grid\n",
    "params = {'alpha': [0.01, 0.1, 0.5, 1.0, 10.0 ]}\n",
    "\n",
    "\n",
    "\n",
    "# create classifier\n",
    "nb_model= MultinomialNB()\n",
    "nb_randomcv = RandomizedSearchCV(estimator=nb_model,param_distributions=params,n_iter=300,cv=10,verbose=2,\n",
    "                               random_state=100,n_jobs=-1)\n",
    "\n",
    "### fit the randomized model\n",
    "nb_randomcv.fit(X_train,y_train)\n",
    "\n",
    "# Provides best parameters\n",
    "nb_randomcv.best_params_\n",
    "\n",
    "\n",
    "best_random_grid=nb_randomcv.best_estimator_"
   ]
  },
  {
   "cell_type": "code",
   "execution_count": 15,
   "metadata": {},
   "outputs": [
    {
     "name": "stdout",
     "output_type": "stream",
     "text": [
      "{'alpha': 0.1}\n"
     ]
    }
   ],
   "source": [
    "# Provides best parameters\n",
    "print(nb_randomcv.best_params_)"
   ]
  },
  {
   "cell_type": "markdown",
   "metadata": {},
   "source": [
    "<h3>Linear Classifier</h3>"
   ]
  },
  {
   "cell_type": "code",
   "execution_count": 16,
   "metadata": {},
   "outputs": [
    {
     "name": "stderr",
     "output_type": "stream",
     "text": [
      "C:\\Users\\Vandan\\Anaconda3\\lib\\site-packages\\sklearn\\utils\\validation.py:72: DataConversionWarning: A column-vector y was passed when a 1d array was expected. Please change the shape of y to (n_samples, ), for example using ravel().\n",
      "  return f(**kwargs)\n"
     ]
    }
   ],
   "source": [
    "# Training model using Logistic regression\n",
    "from sklearn.linear_model import LogisticRegression\n",
    "log_model = LogisticRegression().fit(X_train, y_train)\n",
    "\n",
    "y_pred=log_model.predict(X_test)"
   ]
  },
  {
   "cell_type": "code",
   "execution_count": 17,
   "metadata": {},
   "outputs": [
    {
     "name": "stdout",
     "output_type": "stream",
     "text": [
      "Confusion Matrix:\n",
      "[[3656  218]\n",
      " [  52 1370]]\n",
      "Classification Report:\n",
      "              precision    recall  f1-score   support\n",
      "\n",
      "           0       0.99      0.94      0.96      3874\n",
      "           1       0.86      0.96      0.91      1422\n",
      "\n",
      "    accuracy                           0.95      5296\n",
      "   macro avg       0.92      0.95      0.94      5296\n",
      "weighted avg       0.95      0.95      0.95      5296\n",
      "\n",
      "Accuracy: 0.9490181268882175\n"
     ]
    }
   ],
   "source": [
    "# Training Evaluation\n",
    "\n",
    "y_pred_t = log_model.predict(X_train)\n",
    "\n",
    "# Classification metrics\n",
    "from sklearn.metrics import classification_report,confusion_matrix,accuracy_score\n",
    "cm_train = confusion_matrix(y_pred_t, y_train)\n",
    "print(\"Confusion Matrix:\")\n",
    "print(cm_train)\n",
    "\n",
    "report_train = classification_report(y_pred_t, y_train)\n",
    "print(\"Classification Report:\",)\n",
    "print (report_train)\n",
    "\n",
    "accuracy_train = accuracy_score(y_pred_t,y_train)\n",
    "print(\"Accuracy:\",accuracy_train)"
   ]
  },
  {
   "cell_type": "code",
   "execution_count": 18,
   "metadata": {},
   "outputs": [
    {
     "name": "stdout",
     "output_type": "stream",
     "text": [
      "Confusion Matrix:\n",
      "[[932  77]\n",
      " [ 14 302]]\n",
      "Classification Report:\n",
      "              precision    recall  f1-score   support\n",
      "\n",
      "           0       0.99      0.92      0.95      1009\n",
      "           1       0.80      0.96      0.87       316\n",
      "\n",
      "    accuracy                           0.93      1325\n",
      "   macro avg       0.89      0.94      0.91      1325\n",
      "weighted avg       0.94      0.93      0.93      1325\n",
      "\n",
      "Accuracy: 0.9313207547169812\n"
     ]
    }
   ],
   "source": [
    "# Testing Evaluation Evaluation\n",
    "\n",
    "y_pred = log_model.predict(X_test)\n",
    "\n",
    "# Classification metrics\n",
    "from sklearn.metrics import classification_report,confusion_matrix,accuracy_score\n",
    "cm_test = confusion_matrix(y_pred, y_test)\n",
    "print(\"Confusion Matrix:\")\n",
    "print(cm_test)\n",
    "\n",
    "report_test = classification_report(y_pred, y_test)\n",
    "print(\"Classification Report:\",)\n",
    "print (report_test)\n",
    "\n",
    "accuracy_test = accuracy_score(y_pred,y_test)\n",
    "print(\"Accuracy:\",accuracy_test)"
   ]
  },
  {
   "cell_type": "markdown",
   "metadata": {},
   "source": [
    "<h3>Support Vector Machine"
   ]
  },
  {
   "cell_type": "code",
   "execution_count": 19,
   "metadata": {},
   "outputs": [
    {
     "name": "stderr",
     "output_type": "stream",
     "text": [
      "C:\\Users\\Vandan\\Anaconda3\\lib\\site-packages\\sklearn\\utils\\validation.py:72: DataConversionWarning: A column-vector y was passed when a 1d array was expected. Please change the shape of y to (n_samples, ), for example using ravel().\n",
      "  return f(**kwargs)\n"
     ]
    }
   ],
   "source": [
    "# Training model using Support Vector Machine\n",
    "\n",
    "from sklearn import svm\n",
    "svm_model = svm.SVC()\n",
    "svm_model.fit(X_train,y_train)\n",
    "\n",
    "y_pred=svm_model.predict(X_test)"
   ]
  },
  {
   "cell_type": "code",
   "execution_count": 20,
   "metadata": {},
   "outputs": [
    {
     "name": "stdout",
     "output_type": "stream",
     "text": [
      "Confusion Matrix:\n",
      "[[3680   49]\n",
      " [  28 1539]]\n",
      "Classification Report:\n",
      "              precision    recall  f1-score   support\n",
      "\n",
      "           0       0.99      0.99      0.99      3729\n",
      "           1       0.97      0.98      0.98      1567\n",
      "\n",
      "    accuracy                           0.99      5296\n",
      "   macro avg       0.98      0.98      0.98      5296\n",
      "weighted avg       0.99      0.99      0.99      5296\n",
      "\n",
      "Accuracy: 0.9854607250755287\n"
     ]
    }
   ],
   "source": [
    "# Training Evaluation\n",
    "\n",
    "y_pred_t = svm_model.predict(X_train)\n",
    "\n",
    "# Classification metrics\n",
    "from sklearn.metrics import classification_report,confusion_matrix,accuracy_score\n",
    "cm_train = confusion_matrix(y_pred_t, y_train)\n",
    "print(\"Confusion Matrix:\")\n",
    "print(cm_train)\n",
    "\n",
    "report_train = classification_report(y_pred_t, y_train)\n",
    "print(\"Classification Report:\",)\n",
    "print (report_train)\n",
    "\n",
    "accuracy_train = accuracy_score(y_pred_t,y_train)\n",
    "print(\"Accuracy:\",accuracy_train)"
   ]
  },
  {
   "cell_type": "code",
   "execution_count": 21,
   "metadata": {},
   "outputs": [
    {
     "name": "stdout",
     "output_type": "stream",
     "text": [
      "Confusion Matrix:\n",
      "[[930  71]\n",
      " [ 16 308]]\n",
      "Classification Report:\n",
      "              precision    recall  f1-score   support\n",
      "\n",
      "           0       0.98      0.93      0.96      1001\n",
      "           1       0.81      0.95      0.88       324\n",
      "\n",
      "    accuracy                           0.93      1325\n",
      "   macro avg       0.90      0.94      0.92      1325\n",
      "weighted avg       0.94      0.93      0.94      1325\n",
      "\n",
      "Accuracy: 0.9343396226415094\n"
     ]
    }
   ],
   "source": [
    "# Testing Evaluation Evaluation\n",
    "\n",
    "y_pred = svm_model.predict(X_test)\n",
    "\n",
    "# Classification metrics\n",
    "from sklearn.metrics import classification_report,confusion_matrix,accuracy_score\n",
    "cm_test = confusion_matrix(y_pred, y_test)\n",
    "print(\"Confusion Matrix:\")\n",
    "print(cm_test)\n",
    "\n",
    "report_test = classification_report(y_pred, y_test)\n",
    "print(\"Classification Report:\",)\n",
    "print (report_test)\n",
    "\n",
    "accuracy_test = accuracy_score(y_pred,y_test)\n",
    "print(\"Accuracy:\",accuracy_test)"
   ]
  },
  {
   "cell_type": "markdown",
   "metadata": {},
   "source": [
    "<h3>NGram TF-IDF</h3>"
   ]
  },
  {
   "cell_type": "code",
   "execution_count": 23,
   "metadata": {},
   "outputs": [],
   "source": [
    "\n",
    "# ngram level tf-idf \n",
    "tfidf_vect_ngram = TfidfVectorizer(analyzer='word', token_pattern=r'\\w{1,}', ngram_range=(2,3), max_features=5000)\n",
    "X = tfidf_vect_ngram.fit_transform(reviews_1).toarray()\n",
    "\n",
    "#dummyfying output variable\n",
    "y=pd.get_dummies(data['Ratings'],drop_first=True)"
   ]
  },
  {
   "cell_type": "code",
   "execution_count": 27,
   "metadata": {},
   "outputs": [],
   "source": [
    "# Train Test Split\n",
    "from sklearn.model_selection import train_test_split\n",
    "X_train, X_test, y_train, y_test = train_test_split(X, y, test_size = 0.20, random_state = 42)"
   ]
  },
  {
   "cell_type": "code",
   "execution_count": 33,
   "metadata": {},
   "outputs": [
    {
     "name": "stderr",
     "output_type": "stream",
     "text": [
      "C:\\Users\\Vandan\\Anaconda3\\lib\\site-packages\\sklearn\\utils\\validation.py:72: DataConversionWarning: A column-vector y was passed when a 1d array was expected. Please change the shape of y to (n_samples, ), for example using ravel().\n",
      "  return f(**kwargs)\n"
     ]
    }
   ],
   "source": [
    "# Training model using Naive bayes classifier\n",
    "from sklearn.naive_bayes import MultinomialNB\n",
    "nb_model = MultinomialNB(alpha=0.5).fit(X_train, y_train)\n",
    "\n",
    "y_pred=nb_model.predict(X_test)"
   ]
  },
  {
   "cell_type": "code",
   "execution_count": 34,
   "metadata": {},
   "outputs": [
    {
     "name": "stdout",
     "output_type": "stream",
     "text": [
      "Confusion Matrix:\n",
      "[[3609  214]\n",
      " [  99 1374]]\n",
      "Classification Report:\n",
      "              precision    recall  f1-score   support\n",
      "\n",
      "           0       0.97      0.94      0.96      3823\n",
      "           1       0.87      0.93      0.90      1473\n",
      "\n",
      "    accuracy                           0.94      5296\n",
      "   macro avg       0.92      0.94      0.93      5296\n",
      "weighted avg       0.94      0.94      0.94      5296\n",
      "\n",
      "Accuracy: 0.9408987915407855\n"
     ]
    }
   ],
   "source": [
    "# Training Evaluation\n",
    "\n",
    "y_pred_t = nb_model.predict(X_train)\n",
    "\n",
    "# Classification metrics\n",
    "from sklearn.metrics import classification_report,confusion_matrix,accuracy_score\n",
    "cm_train = confusion_matrix(y_pred_t, y_train)\n",
    "print(\"Confusion Matrix:\")\n",
    "print(cm_train)\n",
    "\n",
    "report_train = classification_report(y_pred_t, y_train)\n",
    "print(\"Classification Report:\",)\n",
    "print (report_train)\n",
    "\n",
    "accuracy_train = accuracy_score(y_pred_t,y_train)\n",
    "print(\"Accuracy:\",accuracy_train)"
   ]
  },
  {
   "cell_type": "code",
   "execution_count": 35,
   "metadata": {},
   "outputs": [
    {
     "name": "stdout",
     "output_type": "stream",
     "text": [
      "Confusion Matrix:\n",
      "[[915  76]\n",
      " [ 31 303]]\n",
      "Classification Report:\n",
      "              precision    recall  f1-score   support\n",
      "\n",
      "           0       0.97      0.92      0.94       991\n",
      "           1       0.80      0.91      0.85       334\n",
      "\n",
      "    accuracy                           0.92      1325\n",
      "   macro avg       0.88      0.92      0.90      1325\n",
      "weighted avg       0.92      0.92      0.92      1325\n",
      "\n",
      "Accuracy: 0.9192452830188679\n"
     ]
    }
   ],
   "source": [
    "# Testing Evaluation Evaluation\n",
    "\n",
    "y_pred = nb_model.predict(X_test)\n",
    "\n",
    "# Classification metrics\n",
    "from sklearn.metrics import classification_report,confusion_matrix,accuracy_score\n",
    "cm_test = confusion_matrix(y_pred, y_test)\n",
    "print(\"Confusion Matrix:\")\n",
    "print(cm_test)\n",
    "\n",
    "report_test = classification_report(y_pred, y_test)\n",
    "print(\"Classification Report:\",)\n",
    "print (report_test)\n",
    "\n",
    "accuracy_test = accuracy_score(y_pred,y_test)\n",
    "print(\"Accuracy:\",accuracy_test)"
   ]
  },
  {
   "cell_type": "code",
   "execution_count": 31,
   "metadata": {},
   "outputs": [
    {
     "name": "stderr",
     "output_type": "stream",
     "text": [
      "C:\\Users\\Vandan\\Anaconda3\\lib\\site-packages\\sklearn\\model_selection\\_search.py:282: UserWarning: The total space of parameters 5 is smaller than n_iter=300. Running 5 iterations. For exhaustive searches, use GridSearchCV.\n",
      "  % (grid_size, self.n_iter, grid_size), UserWarning)\n"
     ]
    },
    {
     "name": "stdout",
     "output_type": "stream",
     "text": [
      "Fitting 10 folds for each of 5 candidates, totalling 50 fits\n"
     ]
    },
    {
     "name": "stderr",
     "output_type": "stream",
     "text": [
      "[Parallel(n_jobs=-1)]: Using backend LokyBackend with 4 concurrent workers.\n",
      "[Parallel(n_jobs=-1)]: Done  33 tasks      | elapsed:   54.9s\n",
      "[Parallel(n_jobs=-1)]: Done  50 out of  50 | elapsed:   58.9s finished\n",
      "C:\\Users\\Vandan\\Anaconda3\\lib\\site-packages\\sklearn\\utils\\validation.py:72: DataConversionWarning: A column-vector y was passed when a 1d array was expected. Please change the shape of y to (n_samples, ), for example using ravel().\n",
      "  return f(**kwargs)\n"
     ]
    }
   ],
   "source": [
    "# Hyperparameter tuning\n",
    "\n",
    "from sklearn.model_selection import RandomizedSearchCV\n",
    "\n",
    "# Create the random grid\n",
    "params = {'alpha': [0.01, 0.1, 0.5, 1.0, 10.0 ]}\n",
    "\n",
    "\n",
    "\n",
    "# create classifier\n",
    "nb_model= MultinomialNB()\n",
    "nb_randomcv = RandomizedSearchCV(estimator=nb_model,param_distributions=params,n_iter=300,cv=10,verbose=2,\n",
    "                               random_state=100,n_jobs=-1)\n",
    "\n",
    "### fit the randomized model\n",
    "nb_randomcv.fit(X_train,y_train)\n",
    "\n",
    "# Provides best parameters\n",
    "nb_randomcv.best_params_\n",
    "\n",
    "\n",
    "best_random_grid=nb_randomcv.best_estimator_"
   ]
  },
  {
   "cell_type": "code",
   "execution_count": 32,
   "metadata": {},
   "outputs": [
    {
     "name": "stdout",
     "output_type": "stream",
     "text": [
      "{'alpha': 0.5}\n"
     ]
    }
   ],
   "source": [
    "print(nb_randomcv.best_params_)"
   ]
  },
  {
   "cell_type": "code",
   "execution_count": null,
   "metadata": {},
   "outputs": [],
   "source": []
  }
 ],
 "metadata": {
  "kernelspec": {
   "display_name": "Python 3",
   "language": "python",
   "name": "python3"
  },
  "language_info": {
   "codemirror_mode": {
    "name": "ipython",
    "version": 3
   },
   "file_extension": ".py",
   "mimetype": "text/x-python",
   "name": "python",
   "nbconvert_exporter": "python",
   "pygments_lexer": "ipython3",
   "version": "3.7.3"
  }
 },
 "nbformat": 4,
 "nbformat_minor": 2
}
