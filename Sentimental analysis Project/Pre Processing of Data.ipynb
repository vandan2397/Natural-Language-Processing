{
 "cells": [
  {
   "cell_type": "code",
   "execution_count": 1,
   "metadata": {},
   "outputs": [],
   "source": [
    "# Import Libraries\n",
    "\n",
    "import pandas as pd\n",
    "import numpy as np"
   ]
  },
  {
   "cell_type": "code",
   "execution_count": 2,
   "metadata": {},
   "outputs": [],
   "source": [
    "# Import Data\n",
    "\n",
    "data = pd.read_csv('Reviews.csv')"
   ]
  },
  {
   "cell_type": "code",
   "execution_count": 3,
   "metadata": {},
   "outputs": [],
   "source": [
    "# drop insignificant column\n",
    "data.drop('Unnamed: 0',axis=1,inplace=True)\n",
    "\n",
    "# Rename columns\n",
    "data.columns = ['Reviews','Ratings']"
   ]
  },
  {
   "cell_type": "code",
   "execution_count": 4,
   "metadata": {},
   "outputs": [
    {
     "data": {
      "text/html": [
       "<div>\n",
       "<style scoped>\n",
       "    .dataframe tbody tr th:only-of-type {\n",
       "        vertical-align: middle;\n",
       "    }\n",
       "\n",
       "    .dataframe tbody tr th {\n",
       "        vertical-align: top;\n",
       "    }\n",
       "\n",
       "    .dataframe thead th {\n",
       "        text-align: right;\n",
       "    }\n",
       "</style>\n",
       "<table border=\"1\" class=\"dataframe\">\n",
       "  <thead>\n",
       "    <tr style=\"text-align: right;\">\n",
       "      <th></th>\n",
       "      <th>Reviews</th>\n",
       "      <th>Ratings</th>\n",
       "    </tr>\n",
       "  </thead>\n",
       "  <tbody>\n",
       "    <tr>\n",
       "      <th>0</th>\n",
       "      <td>Original review: June 26, 2020I use Amazon.com...</td>\n",
       "      <td>4.0</td>\n",
       "    </tr>\n",
       "    <tr>\n",
       "      <th>1</th>\n",
       "      <td>Original review: Feb. 16, 2020With Amazon you ...</td>\n",
       "      <td>5.0</td>\n",
       "    </tr>\n",
       "    <tr>\n",
       "      <th>2</th>\n",
       "      <td>Original review: Feb. 12, 2020I am very happy ...</td>\n",
       "      <td>5.0</td>\n",
       "    </tr>\n",
       "    <tr>\n",
       "      <th>3</th>\n",
       "      <td>Original review: Feb. 9, 2020I absolutely love...</td>\n",
       "      <td>5.0</td>\n",
       "    </tr>\n",
       "    <tr>\n",
       "      <th>4</th>\n",
       "      <td>Original review: Feb. 7, 2020We have shopped A...</td>\n",
       "      <td>5.0</td>\n",
       "    </tr>\n",
       "  </tbody>\n",
       "</table>\n",
       "</div>"
      ],
      "text/plain": [
       "                                             Reviews  Ratings\n",
       "0  Original review: June 26, 2020I use Amazon.com...      4.0\n",
       "1  Original review: Feb. 16, 2020With Amazon you ...      5.0\n",
       "2  Original review: Feb. 12, 2020I am very happy ...      5.0\n",
       "3  Original review: Feb. 9, 2020I absolutely love...      5.0\n",
       "4  Original review: Feb. 7, 2020We have shopped A...      5.0"
      ]
     },
     "execution_count": 4,
     "metadata": {},
     "output_type": "execute_result"
    }
   ],
   "source": [
    "data.head()"
   ]
  },
  {
   "cell_type": "code",
   "execution_count": 5,
   "metadata": {},
   "outputs": [
    {
     "name": "stdout",
     "output_type": "stream",
     "text": [
      "Rows:  7021\n",
      "Columns:  2\n"
     ]
    }
   ],
   "source": [
    "# Shape of data\n",
    "print('Rows: ', data.shape[0])\n",
    "print('Columns: ', data.shape[1])"
   ]
  },
  {
   "cell_type": "code",
   "execution_count": 6,
   "metadata": {},
   "outputs": [
    {
     "name": "stdout",
     "output_type": "stream",
     "text": [
      "maximum length:  809\n",
      "Review of maximum length:  Resolution response: Sept. 4, 2012They finally replied and removed all malicious orders and recovered my ID.Original review: Sept. 3, 2012On Saturday, 9/1/2012, around 8AM, my Amazon.com account was hacked and my email changed. I called them around 1PM and told them this, that they needed to close my account and cancel any orders. They told me that they will forward the request to another department that would take care of it and call me back. The next day, I called back and nothing was done. On top of that, my orders were shipped and my American Express has multiple pending charges. Once again, they said they will forward my request and get back to me. Day 3, 9/3/2012, I called back and same story. Nothing was done, request forwarded to another department, rinse and repeat. Please help! Thank you.\n"
     ]
    }
   ],
   "source": [
    "# maximum length of review\n",
    "print('maximum length: ',len(max(data['Reviews'])))\n",
    "print('Review of maximum length: ',max(data['Reviews']))"
   ]
  },
  {
   "cell_type": "code",
   "execution_count": 7,
   "metadata": {},
   "outputs": [
    {
     "data": {
      "text/plain": [
       "1.0    4083\n",
       "5.0    1584\n",
       "2.0     398\n",
       "4.0     383\n",
       "3.0     173\n",
       "Name: Ratings, dtype: int64"
      ]
     },
     "execution_count": 7,
     "metadata": {},
     "output_type": "execute_result"
    }
   ],
   "source": [
    "# Unique value counts\n",
    "\n",
    "data['Ratings'].value_counts()"
   ]
  },
  {
   "cell_type": "code",
   "execution_count": 8,
   "metadata": {},
   "outputs": [],
   "source": [
    "# Delete Original review\n",
    "\n",
    "import re\n",
    "\n",
    "\n",
    "#manipulating values using lambda function\n",
    "data['Reviews_1'] = data['Reviews'].apply(lambda x: x.replace('Original review:',''))\n"
   ]
  },
  {
   "cell_type": "code",
   "execution_count": 9,
   "metadata": {},
   "outputs": [],
   "source": [
    "data['Reviews_1']=data['Reviews_1'].str[9:]"
   ]
  },
  {
   "cell_type": "code",
   "execution_count": 10,
   "metadata": {},
   "outputs": [
    {
     "data": {
      "text/plain": [
       "0        2020I use Amazon.com often, and 99% of the ti...\n",
       "1        2020With Amazon you can leisurely shop in the...\n",
       "2        2020I am very happy with all my purchases sin...\n",
       "3       2020I absolutely love Amazon. Their selections...\n",
       "4       2020We have shopped Amazon for years and alway...\n",
       "                              ...                        \n",
       "7016    2002This holiday season I made a very special ...\n",
       "7017    2002On the 5th of December I ordered several i...\n",
       "7018     2001On the 13th of December I placed an order...\n",
       "7019     2001In attempting to make a purchase for a Ch...\n",
       "7020     2001I ordered from Amazon.com/Toysrus.com on ...\n",
       "Name: Reviews_1, Length: 7021, dtype: object"
      ]
     },
     "execution_count": 10,
     "metadata": {},
     "output_type": "execute_result"
    }
   ],
   "source": [
    "data['Reviews_1']"
   ]
  },
  {
   "cell_type": "code",
   "execution_count": 11,
   "metadata": {},
   "outputs": [],
   "source": [
    "data['Reviews_1'] = data['Reviews_1'].apply(lambda x: x.replace('2011','',1))\n",
    "data['Reviews_1'] = data['Reviews_1'].apply(lambda x: x.replace('2012','',1))\n",
    "data['Reviews_1'] = data['Reviews_1'].apply(lambda x: x.replace('2013','',1))\n",
    "data['Reviews_1'] = data['Reviews_1'].apply(lambda x: x.replace('2014','',1))\n",
    "data['Reviews_1'] = data['Reviews_1'].apply(lambda x: x.replace('2015','',1))\n",
    "data['Reviews_1'] = data['Reviews_1'].apply(lambda x: x.replace('2016','',1))\n",
    "data['Reviews_1'] = data['Reviews_1'].apply(lambda x: x.replace('2017','',1))\n",
    "data['Reviews_1'] = data['Reviews_1'].apply(lambda x: x.replace('2018','',1))\n",
    "data['Reviews_1'] = data['Reviews_1'].apply(lambda x: x.replace('2019','',1))\n",
    "data['Reviews_1'] = data['Reviews_1'].apply(lambda x: x.replace('2020','',1))\n",
    "data['Reviews_1'] = data['Reviews_1'].apply(lambda x: x.replace('2021','',1))"
   ]
  },
  {
   "cell_type": "code",
   "execution_count": 12,
   "metadata": {},
   "outputs": [
    {
     "data": {
      "text/html": [
       "<div>\n",
       "<style scoped>\n",
       "    .dataframe tbody tr th:only-of-type {\n",
       "        vertical-align: middle;\n",
       "    }\n",
       "\n",
       "    .dataframe tbody tr th {\n",
       "        vertical-align: top;\n",
       "    }\n",
       "\n",
       "    .dataframe thead th {\n",
       "        text-align: right;\n",
       "    }\n",
       "</style>\n",
       "<table border=\"1\" class=\"dataframe\">\n",
       "  <thead>\n",
       "    <tr style=\"text-align: right;\">\n",
       "      <th></th>\n",
       "      <th>Reviews</th>\n",
       "      <th>Ratings</th>\n",
       "      <th>Reviews_1</th>\n",
       "    </tr>\n",
       "  </thead>\n",
       "  <tbody>\n",
       "    <tr>\n",
       "      <th>0</th>\n",
       "      <td>Original review: June 26, 2020I use Amazon.com...</td>\n",
       "      <td>4.0</td>\n",
       "      <td>I use Amazon.com often, and 99% of the time, ...</td>\n",
       "    </tr>\n",
       "    <tr>\n",
       "      <th>1</th>\n",
       "      <td>Original review: Feb. 16, 2020With Amazon you ...</td>\n",
       "      <td>5.0</td>\n",
       "      <td>With Amazon you can leisurely shop in the com...</td>\n",
       "    </tr>\n",
       "    <tr>\n",
       "      <th>2</th>\n",
       "      <td>Original review: Feb. 12, 2020I am very happy ...</td>\n",
       "      <td>5.0</td>\n",
       "      <td>I am very happy with all my purchases since I...</td>\n",
       "    </tr>\n",
       "    <tr>\n",
       "      <th>3</th>\n",
       "      <td>Original review: Feb. 9, 2020I absolutely love...</td>\n",
       "      <td>5.0</td>\n",
       "      <td>I absolutely love Amazon. Their selections, pr...</td>\n",
       "    </tr>\n",
       "    <tr>\n",
       "      <th>4</th>\n",
       "      <td>Original review: Feb. 7, 2020We have shopped A...</td>\n",
       "      <td>5.0</td>\n",
       "      <td>We have shopped Amazon for years and always fi...</td>\n",
       "    </tr>\n",
       "  </tbody>\n",
       "</table>\n",
       "</div>"
      ],
      "text/plain": [
       "                                             Reviews  Ratings  \\\n",
       "0  Original review: June 26, 2020I use Amazon.com...      4.0   \n",
       "1  Original review: Feb. 16, 2020With Amazon you ...      5.0   \n",
       "2  Original review: Feb. 12, 2020I am very happy ...      5.0   \n",
       "3  Original review: Feb. 9, 2020I absolutely love...      5.0   \n",
       "4  Original review: Feb. 7, 2020We have shopped A...      5.0   \n",
       "\n",
       "                                           Reviews_1  \n",
       "0   I use Amazon.com often, and 99% of the time, ...  \n",
       "1   With Amazon you can leisurely shop in the com...  \n",
       "2   I am very happy with all my purchases since I...  \n",
       "3  I absolutely love Amazon. Their selections, pr...  \n",
       "4  We have shopped Amazon for years and always fi...  "
      ]
     },
     "execution_count": 12,
     "metadata": {},
     "output_type": "execute_result"
    }
   ],
   "source": [
    "# Extracting data which has ratings along with review\n",
    "\n",
    "data = data.iloc[0:6621,:]\n",
    "data.head()"
   ]
  },
  {
   "cell_type": "code",
   "execution_count": 13,
   "metadata": {},
   "outputs": [],
   "source": [
    "# Dropping old Reviews column\n",
    "data.drop('Reviews',axis=1,inplace=True)"
   ]
  },
  {
   "cell_type": "code",
   "execution_count": 15,
   "metadata": {},
   "outputs": [],
   "source": [
    "# labelling ratings\n",
    "\n",
    "# Ratings to label\n",
    "def tenure_lab(data) :\n",
    "  if data[\"Ratings\"] <= 3 :\n",
    "        return \"Bad\"\n",
    "  elif (data[\"Ratings\"] >= 4) :\n",
    "        return \"Good\"\n",
    "\n",
    "\n",
    "    \n",
    "data[\"Ratings\"] = data.apply(lambda data:tenure_lab(data), axis = 1)\n"
   ]
  },
  {
   "cell_type": "code",
   "execution_count": 16,
   "metadata": {},
   "outputs": [
    {
     "data": {
      "text/html": [
       "<div>\n",
       "<style scoped>\n",
       "    .dataframe tbody tr th:only-of-type {\n",
       "        vertical-align: middle;\n",
       "    }\n",
       "\n",
       "    .dataframe tbody tr th {\n",
       "        vertical-align: top;\n",
       "    }\n",
       "\n",
       "    .dataframe thead th {\n",
       "        text-align: right;\n",
       "    }\n",
       "</style>\n",
       "<table border=\"1\" class=\"dataframe\">\n",
       "  <thead>\n",
       "    <tr style=\"text-align: right;\">\n",
       "      <th></th>\n",
       "      <th>Ratings</th>\n",
       "      <th>Reviews_1</th>\n",
       "    </tr>\n",
       "  </thead>\n",
       "  <tbody>\n",
       "    <tr>\n",
       "      <th>0</th>\n",
       "      <td>Good</td>\n",
       "      <td>I use Amazon.com often, and 99% of the time, ...</td>\n",
       "    </tr>\n",
       "    <tr>\n",
       "      <th>1</th>\n",
       "      <td>Good</td>\n",
       "      <td>With Amazon you can leisurely shop in the com...</td>\n",
       "    </tr>\n",
       "    <tr>\n",
       "      <th>2</th>\n",
       "      <td>Good</td>\n",
       "      <td>I am very happy with all my purchases since I...</td>\n",
       "    </tr>\n",
       "    <tr>\n",
       "      <th>3</th>\n",
       "      <td>Good</td>\n",
       "      <td>I absolutely love Amazon. Their selections, pr...</td>\n",
       "    </tr>\n",
       "    <tr>\n",
       "      <th>4</th>\n",
       "      <td>Good</td>\n",
       "      <td>We have shopped Amazon for years and always fi...</td>\n",
       "    </tr>\n",
       "  </tbody>\n",
       "</table>\n",
       "</div>"
      ],
      "text/plain": [
       "  Ratings                                          Reviews_1\n",
       "0    Good   I use Amazon.com often, and 99% of the time, ...\n",
       "1    Good   With Amazon you can leisurely shop in the com...\n",
       "2    Good   I am very happy with all my purchases since I...\n",
       "3    Good  I absolutely love Amazon. Their selections, pr...\n",
       "4    Good  We have shopped Amazon for years and always fi..."
      ]
     },
     "execution_count": 16,
     "metadata": {},
     "output_type": "execute_result"
    }
   ],
   "source": [
    "data.head()"
   ]
  },
  {
   "cell_type": "code",
   "execution_count": 17,
   "metadata": {},
   "outputs": [],
   "source": [
    "data.columns = ['Ratings','Reviews']"
   ]
  },
  {
   "cell_type": "code",
   "execution_count": 18,
   "metadata": {},
   "outputs": [],
   "source": [
    "data.to_csv('Amazon_Customer_Reviews.csv')"
   ]
  },
  {
   "cell_type": "code",
   "execution_count": null,
   "metadata": {},
   "outputs": [],
   "source": []
  }
 ],
 "metadata": {
  "kernelspec": {
   "display_name": "Python 3",
   "language": "python",
   "name": "python3"
  },
  "language_info": {
   "codemirror_mode": {
    "name": "ipython",
    "version": 3
   },
   "file_extension": ".py",
   "mimetype": "text/x-python",
   "name": "python",
   "nbconvert_exporter": "python",
   "pygments_lexer": "ipython3",
   "version": "3.7.3"
  }
 },
 "nbformat": 4,
 "nbformat_minor": 2
}
