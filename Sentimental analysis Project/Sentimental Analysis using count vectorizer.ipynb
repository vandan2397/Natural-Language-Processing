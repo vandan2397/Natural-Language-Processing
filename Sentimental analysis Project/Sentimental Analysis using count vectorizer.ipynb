{
 "cells": [
  {
   "cell_type": "code",
   "execution_count": 1,
   "metadata": {},
   "outputs": [],
   "source": [
    "# import libraries\n",
    "\n",
    "import pandas as pd\n",
    "import numpy as np"
   ]
  },
  {
   "cell_type": "code",
   "execution_count": 2,
   "metadata": {},
   "outputs": [
    {
     "data": {
      "text/html": [
       "<div>\n",
       "<style scoped>\n",
       "    .dataframe tbody tr th:only-of-type {\n",
       "        vertical-align: middle;\n",
       "    }\n",
       "\n",
       "    .dataframe tbody tr th {\n",
       "        vertical-align: top;\n",
       "    }\n",
       "\n",
       "    .dataframe thead th {\n",
       "        text-align: right;\n",
       "    }\n",
       "</style>\n",
       "<table border=\"1\" class=\"dataframe\">\n",
       "  <thead>\n",
       "    <tr style=\"text-align: right;\">\n",
       "      <th></th>\n",
       "      <th>Ratings</th>\n",
       "      <th>Reviews</th>\n",
       "    </tr>\n",
       "  </thead>\n",
       "  <tbody>\n",
       "    <tr>\n",
       "      <th>0</th>\n",
       "      <td>Good</td>\n",
       "      <td>I use Amazon.com often, and 99% of the time, ...</td>\n",
       "    </tr>\n",
       "    <tr>\n",
       "      <th>1</th>\n",
       "      <td>Good</td>\n",
       "      <td>With Amazon you can leisurely shop in the com...</td>\n",
       "    </tr>\n",
       "    <tr>\n",
       "      <th>2</th>\n",
       "      <td>Good</td>\n",
       "      <td>I am very happy with all my purchases since I...</td>\n",
       "    </tr>\n",
       "    <tr>\n",
       "      <th>3</th>\n",
       "      <td>Good</td>\n",
       "      <td>I absolutely love Amazon. Their selections, pr...</td>\n",
       "    </tr>\n",
       "    <tr>\n",
       "      <th>4</th>\n",
       "      <td>Good</td>\n",
       "      <td>We have shopped Amazon for years and always fi...</td>\n",
       "    </tr>\n",
       "  </tbody>\n",
       "</table>\n",
       "</div>"
      ],
      "text/plain": [
       "  Ratings                                            Reviews\n",
       "0    Good   I use Amazon.com often, and 99% of the time, ...\n",
       "1    Good   With Amazon you can leisurely shop in the com...\n",
       "2    Good   I am very happy with all my purchases since I...\n",
       "3    Good  I absolutely love Amazon. Their selections, pr...\n",
       "4    Good  We have shopped Amazon for years and always fi..."
      ]
     },
     "execution_count": 2,
     "metadata": {},
     "output_type": "execute_result"
    }
   ],
   "source": [
    "# Read data\n",
    "\n",
    "data = pd.read_csv('Amazon_customer_Reviews.csv')\n",
    "data.drop('Unnamed: 0',axis=1,inplace=True)\n",
    "data.head()"
   ]
  },
  {
   "cell_type": "code",
   "execution_count": 4,
   "metadata": {},
   "outputs": [
    {
     "data": {
      "text/plain": [
       "Bad     4654\n",
       "Good    1967\n",
       "Name: Ratings, dtype: int64"
      ]
     },
     "execution_count": 4,
     "metadata": {},
     "output_type": "execute_result"
    }
   ],
   "source": [
    "data['Ratings'].value_counts()"
   ]
  },
  {
   "cell_type": "code",
   "execution_count": 3,
   "metadata": {},
   "outputs": [],
   "source": [
    "#Data cleaning and preprocessing\n",
    "import re\n",
    "import nltk\n",
    "from nltk.corpus import stopwords\n",
    "from nltk.stem import WordNetLemmatizer\n",
    "wordnet = WordNetLemmatizer()"
   ]
  },
  {
   "cell_type": "code",
   "execution_count": 4,
   "metadata": {},
   "outputs": [],
   "source": [
    "# Function for preprocessing\n",
    "def preprocessing(data):    \n",
    "    \n",
    "    reviews =  []\n",
    "    for i in range(0, len(data)):\n",
    "        # Replacing values in rows\n",
    "        review = data['Reviews'][i]\n",
    "        review = review.replace('$','dollars')\n",
    "    \n",
    "        # keeping only text and numbers in reviews\n",
    "        review = re.sub('%', ' percent', review)\n",
    "        review = re.sub('[^a-zA-Z0-9/]', ' ', review)\n",
    "        review = review.lower()\n",
    "        review = review.split()\n",
    "    \n",
    "        # Removing Stopwords\n",
    "        review = [wordnet.lemmatize(word) for word in review if not word in stopwords.words('english')]\n",
    "        review = ' '.join(review)\n",
    "    \n",
    "        reviews.append(review)\n",
    "    \n",
    "    return reviews\n",
    "        \n",
    "reviews_1 = preprocessing(data)"
   ]
  },
  {
   "cell_type": "code",
   "execution_count": 22,
   "metadata": {},
   "outputs": [],
   "source": [
    "# Converting to dataframe and then csv file of pre processed data\n",
    "\n",
    "reviews_pre = pd.DataFrame(reviews_1)\n",
    "\n",
    "reviews_pre.to_csv('preprocessed.csv')"
   ]
  },
  {
   "cell_type": "markdown",
   "metadata": {},
   "source": [
    "<h3>Bag of Words Model</h3>"
   ]
  },
  {
   "cell_type": "code",
   "execution_count": 5,
   "metadata": {},
   "outputs": [],
   "source": [
    "# Creating the Bag of Words model\n",
    "from sklearn.feature_extraction.text import CountVectorizer\n",
    "cv = CountVectorizer(max_features=5000)\n",
    "X = cv.fit_transform(reviews_1).toarray()\n",
    "\n",
    "#dummyfying output variable\n",
    "y=pd.get_dummies(data['Ratings'],drop_first=True)\n"
   ]
  },
  {
   "cell_type": "code",
   "execution_count": 7,
   "metadata": {},
   "outputs": [],
   "source": [
    "# Save Count vectorizer\n",
    "#from sklearn.externals import joblib\n",
    "import pickle\n",
    "\n",
    "pickle.dump(cv, open('tranform.pkl', 'wb'))"
   ]
  },
  {
   "cell_type": "code",
   "execution_count": 8,
   "metadata": {},
   "outputs": [],
   "source": [
    "# Train Test Split\n",
    "from sklearn.model_selection import train_test_split\n",
    "X_train, X_test, y_train, y_test = train_test_split(X, y, test_size = 0.20, random_state = 42)\n"
   ]
  },
  {
   "cell_type": "markdown",
   "metadata": {},
   "source": [
    "<h3>Naive Bayes Classifier</h3>"
   ]
  },
  {
   "cell_type": "code",
   "execution_count": 93,
   "metadata": {},
   "outputs": [
    {
     "name": "stderr",
     "output_type": "stream",
     "text": [
      "C:\\Users\\Vandan\\Anaconda3\\lib\\site-packages\\sklearn\\utils\\validation.py:72: DataConversionWarning: A column-vector y was passed when a 1d array was expected. Please change the shape of y to (n_samples, ), for example using ravel().\n",
      "  return f(**kwargs)\n"
     ]
    }
   ],
   "source": [
    "# Training model using Naive bayes classifier\n",
    "from sklearn.naive_bayes import MultinomialNB\n",
    "model = MultinomialNB(alpha=0.01).fit(X_train, y_train)\n",
    "\n",
    "y_pred=model.predict(X_test)"
   ]
  },
  {
   "cell_type": "code",
   "execution_count": 94,
   "metadata": {},
   "outputs": [
    {
     "name": "stdout",
     "output_type": "stream",
     "text": [
      "Confusion Matrix:\n",
      "[[3590  103]\n",
      " [ 118 1485]]\n",
      "Classification Report:\n",
      "              precision    recall  f1-score   support\n",
      "\n",
      "           0       0.97      0.97      0.97      3693\n",
      "           1       0.94      0.93      0.93      1603\n",
      "\n",
      "    accuracy                           0.96      5296\n",
      "   macro avg       0.95      0.95      0.95      5296\n",
      "weighted avg       0.96      0.96      0.96      5296\n",
      "\n",
      "Accuracy: 0.9582703927492447\n"
     ]
    }
   ],
   "source": [
    "# Training Evaluation\n",
    "\n",
    "y_pred_t = model.predict(X_train)\n",
    "\n",
    "# Classification metrics\n",
    "from sklearn.metrics import classification_report,confusion_matrix,accuracy_score\n",
    "cm_train = confusion_matrix(y_pred_t, y_train)\n",
    "print(\"Confusion Matrix:\")\n",
    "print(cm_train)\n",
    "\n",
    "report_train = classification_report(y_pred_t, y_train)\n",
    "print(\"Classification Report:\",)\n",
    "print (report_train)\n",
    "\n",
    "accuracy_train = accuracy_score(y_pred_t,y_train)\n",
    "print(\"Accuracy:\",accuracy_train)\n"
   ]
  },
  {
   "cell_type": "code",
   "execution_count": 95,
   "metadata": {},
   "outputs": [
    {
     "name": "stdout",
     "output_type": "stream",
     "text": [
      "Confusion Matrix:\n",
      "[[916  59]\n",
      " [ 30 320]]\n",
      "Classification Report:\n",
      "              precision    recall  f1-score   support\n",
      "\n",
      "           0       0.97      0.94      0.95       975\n",
      "           1       0.84      0.91      0.88       350\n",
      "\n",
      "    accuracy                           0.93      1325\n",
      "   macro avg       0.91      0.93      0.92      1325\n",
      "weighted avg       0.94      0.93      0.93      1325\n",
      "\n",
      "Accuracy: 0.9328301886792453\n"
     ]
    }
   ],
   "source": [
    "# Testing Evaluation Evaluation\n",
    "\n",
    "y_pred = model.predict(X_test)\n",
    "\n",
    "# Classification metrics\n",
    "from sklearn.metrics import classification_report,confusion_matrix,accuracy_score\n",
    "cm_test = confusion_matrix(y_pred, y_test)\n",
    "print(\"Confusion Matrix:\")\n",
    "print(cm_test)\n",
    "\n",
    "report_test = classification_report(y_pred, y_test)\n",
    "print(\"Classification Report:\",)\n",
    "print (report_test)\n",
    "\n",
    "accuracy_test = accuracy_score(y_pred,y_test)\n",
    "print(\"Accuracy:\",accuracy_test)"
   ]
  },
  {
   "cell_type": "code",
   "execution_count": 62,
   "metadata": {},
   "outputs": [
    {
     "name": "stderr",
     "output_type": "stream",
     "text": [
      "C:\\Users\\Vandan\\Anaconda3\\lib\\site-packages\\sklearn\\model_selection\\_search.py:282: UserWarning: The total space of parameters 5 is smaller than n_iter=300. Running 5 iterations. For exhaustive searches, use GridSearchCV.\n",
      "  % (grid_size, self.n_iter, grid_size), UserWarning)\n",
      "[Parallel(n_jobs=-1)]: Using backend LokyBackend with 4 concurrent workers.\n"
     ]
    },
    {
     "name": "stdout",
     "output_type": "stream",
     "text": [
      "Fitting 10 folds for each of 5 candidates, totalling 50 fits\n"
     ]
    },
    {
     "name": "stderr",
     "output_type": "stream",
     "text": [
      "[Parallel(n_jobs=-1)]: Done  33 tasks      | elapsed:   47.8s\n",
      "[Parallel(n_jobs=-1)]: Done  50 out of  50 | elapsed:  1.1min finished\n",
      "C:\\Users\\Vandan\\Anaconda3\\lib\\site-packages\\sklearn\\utils\\validation.py:72: DataConversionWarning: A column-vector y was passed when a 1d array was expected. Please change the shape of y to (n_samples, ), for example using ravel().\n",
      "  return f(**kwargs)\n"
     ]
    }
   ],
   "source": [
    "# Hyperparameter tuning\n",
    "\n",
    "from sklearn.model_selection import RandomizedSearchCV\n",
    "\n",
    "# Create the random grid\n",
    "params = {'alpha': [0.01, 0.1, 0.5, 1.0, 10.0 ]}\n",
    "\n",
    "\n",
    "\n",
    "# create classifier\n",
    "nb_model= MultinomialNB()\n",
    "nb_randomcv = RandomizedSearchCV(estimator=nb_model,param_distributions=params,n_iter=300,cv=10,verbose=2,\n",
    "                               random_state=100,n_jobs=-1)\n",
    "\n",
    "### fit the randomized model\n",
    "nb_randomcv.fit(X_train,y_train)\n",
    "\n",
    "# Provides best parameters\n",
    "nb_randomcv.best_params_\n",
    "\n",
    "\n",
    "best_random_grid=nb_randomcv.best_estimator_"
   ]
  },
  {
   "cell_type": "code",
   "execution_count": 63,
   "metadata": {},
   "outputs": [
    {
     "name": "stdout",
     "output_type": "stream",
     "text": [
      "{'alpha': 0.01}\n"
     ]
    }
   ],
   "source": [
    "print(nb_randomcv.best_params_)"
   ]
  },
  {
   "cell_type": "markdown",
   "metadata": {},
   "source": [
    "<h3>Linear Classifier</h3>"
   ]
  },
  {
   "cell_type": "code",
   "execution_count": 9,
   "metadata": {},
   "outputs": [
    {
     "name": "stderr",
     "output_type": "stream",
     "text": [
      "C:\\Users\\Vandan\\Anaconda3\\lib\\site-packages\\sklearn\\utils\\validation.py:72: DataConversionWarning: A column-vector y was passed when a 1d array was expected. Please change the shape of y to (n_samples, ), for example using ravel().\n",
      "  return f(**kwargs)\n"
     ]
    }
   ],
   "source": [
    "# Training model using Logistic regression\n",
    "from sklearn.linear_model import LogisticRegression\n",
    "log_model = LogisticRegression(solver= 'newton-cg', penalty= 'l2', C=0.1).fit(X_train, y_train)\n",
    "\n",
    "y_pred=log_model.predict(X_test)"
   ]
  },
  {
   "cell_type": "code",
   "execution_count": 110,
   "metadata": {},
   "outputs": [
    {
     "name": "stdout",
     "output_type": "stream",
     "text": [
      "Confusion Matrix:\n",
      "[[3655   98]\n",
      " [  53 1490]]\n",
      "Classification Report:\n",
      "              precision    recall  f1-score   support\n",
      "\n",
      "           0       0.99      0.97      0.98      3753\n",
      "           1       0.94      0.97      0.95      1543\n",
      "\n",
      "    accuracy                           0.97      5296\n",
      "   macro avg       0.96      0.97      0.97      5296\n",
      "weighted avg       0.97      0.97      0.97      5296\n",
      "\n",
      "Accuracy: 0.971487915407855\n"
     ]
    }
   ],
   "source": [
    "# Training Evaluation\n",
    "\n",
    "y_pred_t = log_model.predict(X_train)\n",
    "\n",
    "# Classification metrics\n",
    "from sklearn.metrics import classification_report,confusion_matrix,accuracy_score\n",
    "cm_train = confusion_matrix(y_pred_t, y_train)\n",
    "print(\"Confusion Matrix:\")\n",
    "print(cm_train)\n",
    "\n",
    "report_train = classification_report(y_pred_t, y_train)\n",
    "print(\"Classification Report:\",)\n",
    "print (report_train)\n",
    "\n",
    "accuracy_train = accuracy_score(y_pred_t,y_train)\n",
    "print(\"Accuracy:\",accuracy_train)\n"
   ]
  },
  {
   "cell_type": "code",
   "execution_count": 111,
   "metadata": {},
   "outputs": [
    {
     "name": "stdout",
     "output_type": "stream",
     "text": [
      "Confusion Matrix:\n",
      "[[918  55]\n",
      " [ 28 324]]\n",
      "Classification Report:\n",
      "              precision    recall  f1-score   support\n",
      "\n",
      "           0       0.97      0.94      0.96       973\n",
      "           1       0.85      0.92      0.89       352\n",
      "\n",
      "    accuracy                           0.94      1325\n",
      "   macro avg       0.91      0.93      0.92      1325\n",
      "weighted avg       0.94      0.94      0.94      1325\n",
      "\n",
      "Accuracy: 0.9373584905660377\n"
     ]
    }
   ],
   "source": [
    "# Testing Evaluation Evaluation\n",
    "\n",
    "y_pred = log_model.predict(X_test)\n",
    "\n",
    "# Classification metrics\n",
    "from sklearn.metrics import classification_report,confusion_matrix,accuracy_score\n",
    "cm_test = confusion_matrix(y_pred, y_test)\n",
    "print(\"Confusion Matrix:\")\n",
    "print(cm_test)\n",
    "\n",
    "report_test = classification_report(y_pred, y_test)\n",
    "print(\"Classification Report:\",)\n",
    "print (report_test)\n",
    "\n",
    "accuracy_test = accuracy_score(y_pred,y_test)\n",
    "print(\"Accuracy:\",accuracy_test)"
   ]
  },
  {
   "cell_type": "code",
   "execution_count": 106,
   "metadata": {},
   "outputs": [
    {
     "name": "stderr",
     "output_type": "stream",
     "text": [
      "C:\\Users\\Vandan\\Anaconda3\\lib\\site-packages\\sklearn\\model_selection\\_search.py:282: UserWarning: The total space of parameters 100 is smaller than n_iter=300. Running 100 iterations. For exhaustive searches, use GridSearchCV.\n",
      "  % (grid_size, self.n_iter, grid_size), UserWarning)\n",
      "[Parallel(n_jobs=-1)]: Using backend LokyBackend with 4 concurrent workers.\n"
     ]
    },
    {
     "name": "stdout",
     "output_type": "stream",
     "text": [
      "Fitting 10 folds for each of 100 candidates, totalling 1000 fits\n"
     ]
    },
    {
     "name": "stderr",
     "output_type": "stream",
     "text": [
      "[Parallel(n_jobs=-1)]: Done  33 tasks      | elapsed:  5.3min\n",
      "[Parallel(n_jobs=-1)]: Done 154 tasks      | elapsed: 28.4min\n",
      "[Parallel(n_jobs=-1)]: Done 357 tasks      | elapsed: 56.2min\n",
      "[Parallel(n_jobs=-1)]: Done 640 tasks      | elapsed: 90.6min\n",
      "[Parallel(n_jobs=-1)]: Done 1000 out of 1000 | elapsed: 132.5min finished\n",
      "C:\\Users\\Vandan\\Anaconda3\\lib\\site-packages\\sklearn\\utils\\validation.py:72: DataConversionWarning: A column-vector y was passed when a 1d array was expected. Please change the shape of y to (n_samples, ), for example using ravel().\n",
      "  return f(**kwargs)\n"
     ]
    }
   ],
   "source": [
    "# Hyperparameter tuning\n",
    "\n",
    "from sklearn.model_selection import RandomizedSearchCV\n",
    "\n",
    "# Create the random grid\n",
    "params = {'solver': ['newton-cg', 'lbfgs', 'liblinear', 'sag', 'saga'],\n",
    "         'penalty':['none','l1','l2','elasticnet'],\n",
    "         'C' : [100, 10, 1.0, 0.1, 0.01]}\n",
    "\n",
    "\n",
    "\n",
    "# create classifier\n",
    "nb_model= MultinomialNB()\n",
    "nb_randomcv = RandomizedSearchCV(estimator=log_model,param_distributions=params,n_iter=300,cv=10,verbose=2,\n",
    "                               random_state=100,n_jobs=-1)\n",
    "\n",
    "### fit the randomized model\n",
    "nb_randomcv.fit(X_train,y_train)\n",
    "\n",
    "# Provides best parameters\n",
    "nb_randomcv.best_params_\n",
    "\n",
    "\n",
    "best_random_grid=nb_randomcv.best_estimator_"
   ]
  },
  {
   "cell_type": "code",
   "execution_count": 107,
   "metadata": {},
   "outputs": [
    {
     "name": "stdout",
     "output_type": "stream",
     "text": [
      "{'solver': 'newton-cg', 'penalty': 'l2', 'C': 0.1}\n"
     ]
    }
   ],
   "source": [
    "print(nb_randomcv.best_params_)"
   ]
  },
  {
   "cell_type": "code",
   "execution_count": 11,
   "metadata": {},
   "outputs": [],
   "source": [
    "# Save Count vectorizer\n",
    "#from sklearn.externals import joblib\n",
    "import pickle\n",
    "\n",
    "pickle.dump(log_model, open('clf.pkl', 'wb'))"
   ]
  },
  {
   "cell_type": "markdown",
   "metadata": {},
   "source": [
    "<h3>Support Vector Machine</h3>"
   ]
  },
  {
   "cell_type": "code",
   "execution_count": 8,
   "metadata": {},
   "outputs": [
    {
     "name": "stderr",
     "output_type": "stream",
     "text": [
      "C:\\Users\\Vandan\\Anaconda3\\lib\\site-packages\\sklearn\\utils\\validation.py:72: DataConversionWarning: A column-vector y was passed when a 1d array was expected. Please change the shape of y to (n_samples, ), for example using ravel().\n",
      "  return f(**kwargs)\n"
     ]
    }
   ],
   "source": [
    "# Training model using Support Vector Machine\n",
    "\n",
    "from sklearn import svm\n",
    "svm_model = svm.SVC()\n",
    "svm_model.fit(X_train,y_train)\n",
    "\n",
    "y_pred=svm_model.predict(X_test)"
   ]
  },
  {
   "cell_type": "code",
   "execution_count": 26,
   "metadata": {},
   "outputs": [
    {
     "name": "stdout",
     "output_type": "stream",
     "text": [
      "Confusion Matrix:\n",
      "[[3644  158]\n",
      " [  64 1430]]\n",
      "Classification Report:\n",
      "              precision    recall  f1-score   support\n",
      "\n",
      "           0       0.98      0.96      0.97      3802\n",
      "           1       0.90      0.96      0.93      1494\n",
      "\n",
      "    accuracy                           0.96      5296\n",
      "   macro avg       0.94      0.96      0.95      5296\n",
      "weighted avg       0.96      0.96      0.96      5296\n",
      "\n",
      "Accuracy: 0.9580815709969789\n"
     ]
    }
   ],
   "source": [
    "# Training Evaluation\n",
    "\n",
    "y_pred_t = svm_model.predict(X_train)\n",
    "\n",
    "# Classification metrics\n",
    "from sklearn.metrics import classification_report,confusion_matrix,accuracy_score\n",
    "cm_train = confusion_matrix(y_pred_t, y_train)\n",
    "print(\"Confusion Matrix:\")\n",
    "print(cm_train)\n",
    "\n",
    "report_train = classification_report(y_pred_t, y_train)\n",
    "print(\"Classification Report:\",)\n",
    "print (report_train)\n",
    "\n",
    "accuracy_train = accuracy_score(y_pred_t,y_train)\n",
    "print(\"Accuracy:\",accuracy_train)"
   ]
  },
  {
   "cell_type": "code",
   "execution_count": 27,
   "metadata": {},
   "outputs": [
    {
     "name": "stdout",
     "output_type": "stream",
     "text": [
      "Confusion Matrix:\n",
      "[[920  63]\n",
      " [ 26 316]]\n",
      "Classification Report:\n",
      "              precision    recall  f1-score   support\n",
      "\n",
      "           0       0.97      0.94      0.95       983\n",
      "           1       0.83      0.92      0.88       342\n",
      "\n",
      "    accuracy                           0.93      1325\n",
      "   macro avg       0.90      0.93      0.92      1325\n",
      "weighted avg       0.94      0.93      0.93      1325\n",
      "\n",
      "Accuracy: 0.9328301886792453\n"
     ]
    }
   ],
   "source": [
    "# Testing Evaluation Evaluation\n",
    "\n",
    "y_pred = svm_model.predict(X_test)\n",
    "\n",
    "# Classification metrics\n",
    "from sklearn.metrics import classification_report,confusion_matrix,accuracy_score\n",
    "cm_test = confusion_matrix(y_pred, y_test)\n",
    "print(\"Confusion Matrix:\")\n",
    "print(cm_test)\n",
    "\n",
    "report_test = classification_report(y_pred, y_test)\n",
    "print(\"Classification Report:\",)\n",
    "print (report_test)\n",
    "\n",
    "accuracy_test = accuracy_score(y_pred,y_test)\n",
    "print(\"Accuracy:\",accuracy_test)"
   ]
  },
  {
   "cell_type": "code",
   "execution_count": null,
   "metadata": {},
   "outputs": [
    {
     "name": "stderr",
     "output_type": "stream",
     "text": [
      "C:\\Users\\Vandan\\Anaconda3\\lib\\site-packages\\sklearn\\model_selection\\_search.py:282: UserWarning: The total space of parameters 75 is smaller than n_iter=300. Running 75 iterations. For exhaustive searches, use GridSearchCV.\n",
      "  % (grid_size, self.n_iter, grid_size), UserWarning)\n",
      "[Parallel(n_jobs=-1)]: Using backend LokyBackend with 4 concurrent workers.\n"
     ]
    },
    {
     "name": "stdout",
     "output_type": "stream",
     "text": [
      "Fitting 10 folds for each of 75 candidates, totalling 750 fits\n"
     ]
    },
    {
     "name": "stderr",
     "output_type": "stream",
     "text": [
      "[Parallel(n_jobs=-1)]: Done  33 tasks      | elapsed: 31.8min\n",
      "[Parallel(n_jobs=-1)]: Done 154 tasks      | elapsed: 135.9min\n",
      "[Parallel(n_jobs=-1)]: Done 357 tasks      | elapsed: 324.0min\n"
     ]
    }
   ],
   "source": [
    "# Hyperparameter tuning\n",
    "\n",
    "from sklearn.model_selection import RandomizedSearchCV\n",
    "\n",
    "# Create the random grid\n",
    "params = {'C': [0.1, 1, 10, 100, 1000],  \n",
    "              'gamma': [1, 0.1, 0.01, 0.001, 0.0001], \n",
    "              'kernel': ['linear', 'poly', 'rbf']} \n",
    "\n",
    "\n",
    "# create classifier\n",
    "svm_model = svm.SVC()\n",
    "svm_randomcv = RandomizedSearchCV(estimator=svm_model,param_distributions=params,n_iter=300,cv=10,verbose=2,\n",
    "                               random_state=100,n_jobs=-1)\n",
    "\n",
    "### fit the randomized model\n",
    "svm_randomcv.fit(X_train,y_train)\n",
    "\n",
    "# Provides best parameters\n",
    "svm_randomcv.best_params_\n",
    "\n",
    "\n",
    "best_random_grid=svm_randomcv.best_estimator_"
   ]
  },
  {
   "cell_type": "code",
   "execution_count": null,
   "metadata": {},
   "outputs": [],
   "source": []
  }
 ],
 "metadata": {
  "kernelspec": {
   "display_name": "Python 3",
   "language": "python",
   "name": "python3"
  },
  "language_info": {
   "codemirror_mode": {
    "name": "ipython",
    "version": 3
   },
   "file_extension": ".py",
   "mimetype": "text/x-python",
   "name": "python",
   "nbconvert_exporter": "python",
   "pygments_lexer": "ipython3",
   "version": "3.7.3"
  }
 },
 "nbformat": 4,
 "nbformat_minor": 2
}
